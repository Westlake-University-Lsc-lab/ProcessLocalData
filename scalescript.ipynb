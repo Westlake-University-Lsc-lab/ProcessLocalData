{
 "cells": [
  {
   "cell_type": "code",
   "execution_count": 1,
   "metadata": {},
   "outputs": [],
   "source": [
    "import numpy as np\n",
    "import pandas as pd\n",
    "import process_data\n",
    "import constant\n",
    "def scale_to_PEns(file):\n",
    "    df = pd.read_hdf(file, key='winfo')\n",
    "    ''' \n",
    "        Constant parameters:\n",
    "    '''\n",
    "    Rft = constant.Rft\n",
    "    Rft_err= constant.Rft_err\n",
    "    GR_mu = constant.GR_mu\n",
    "    GR_err = constant.GR_err\n",
    "    ref_mu = df.Ch0_s2_mu[df.Delta_t == 1000]\n",
    "    ref_err = df.Ch0_s2_sigma[df.Delta_t == 1000]\n",
    "    ref_width = df.S2_width[df.Delta_t == 1000] \n",
    "    ref_width = df.S2_width[df.Delta_t == 1000] ### unit in ns\n",
    "    ''' \n",
    "        Calculate new Parameters:\n",
    "    '''\n",
    "    PEns_ref = float(ref_mu.iloc[0] / ref_width.iloc[0])\n",
    "    PEns_ref_err = float(ref_mu.iloc[0] / ref_width.iloc[0]) *np.sqrt((ref_err.iloc[0]/ref_mu.iloc[0])**2 + (2/ref_width.iloc[0])**2 )\n",
    "    \n",
    "    S2_PEns_filter = (df.Ch1_s2_mu * Rft)/df.S2_width\n",
    "    S2_PEns_filter_err =(df.Ch1_s2_mu * Rft)/df.S2_width * np.sqrt((df.Ch1_s2_sigma/df.Ch1_s2_mu)**2 + (Rft_err/Rft)**2  + (2/df.S2_width)**2)\n",
    "    S2_PEns_anode = df.Ch0_s2_mu /df.S2_width\n",
    "    S2_PEns_anode_err = df.Ch0_s2_mu /df.S2_width * np.sqrt((df.Ch0_s2_sigma/df.Ch0_s2_mu) **2  + (2/df.S2_width)**2)\n",
    "    S2_PEns_dynode = df.Ch2_s2_mu * GR_mu /df.S2_width\n",
    "    S2_PEns_dynode_err =df.Ch2_s2_mu * GR_mu /df.S2_width * np.sqrt((df.Ch2_s2_sigma/df.Ch2_s2_mu)**2 + (GR_err/GR_mu)**2  + (2/df.S2_width)**2)\n",
    "    R2ref_filter = S2_PEns_filter /PEns_ref\n",
    "    R2ref_filter_err = S2_PEns_filter /ref_mu * np.sqrt((PEns_ref_err/PEns_ref) **2  + (S2_PEns_filter_err/S2_PEns_filter) **2)\n",
    "    R2ref= S2_PEns_anode/PEns_ref\n",
    "    R2ref_err = S2_PEns_anode /PEns_ref * np.sqrt((PEns_ref_err/PEns_ref) **2  + (S2_PEns_anode_err/S2_PEns_anode) **2)\n",
    "    ''' \n",
    "        save to dataframe \n",
    "    '''\n",
    "    \n",
    "    df['R2ref'] = R2ref\n",
    "    df['R2ref_err'] = R2ref_err\n",
    "    df['R2ref_filter'] = R2ref_filter\n",
    "    df['R2ref_filter_err']= R2ref_filter_err\n",
    "    df['PEns_anode'] = S2_PEns_anode\n",
    "    df['PEns_anode_err'] = S2_PEns_anode_err\n",
    "    df['PEns_filter'] = S2_PEns_filter\n",
    "    df['PEns_fliter_err'] = S2_PEns_filter_err\n",
    "    df['PEns_dynode'] = S2_PEns_dynode\n",
    "    df['PEns_dynode_err'] = S2_PEns_dynode_err\n",
    "    \n",
    "    #### save to hdf5 file    \n",
    "    file_tag = file.split('.h5py')[0]\n",
    "    path = r'{}_scaled.h5py'.format(file_tag)\n",
    "    # print('saving to {}'.format(path))\n",
    "    process_data.write_to_hdf5(df, path)\n",
    "    \n"
   ]
  },
  {
   "cell_type": "code",
   "execution_count": 2,
   "metadata": {},
   "outputs": [
    {
     "name": "stdout",
     "output_type": "stream",
     "text": [
      "outnpy/lv2415_lv2414_20241205_12DB_LED_combine_3p5v_1p75v_1p36v_680mv_10000us_50hz_run0_raw_b0_seg0_single_gussain.h5py\n",
      "h5 Write Time: 0.01 s \n",
      "h5 File Size: 1.03 MB\n",
      "Save to outnpy/lv2415_lv2414_20241205_12DB_LED_combine_3p5v_1p75v_1p36v_680mv_10000us_50hz_run0_raw_b0_seg0_single_gussain_scaled.h5py\n",
      "outnpy/lv2415_lv2414_20241205_12DB_LED_combine_3p25v_1p625v_1p36v_680mv_10000us_50hz_run0_raw_b0_seg0_single_gussain.h5py\n",
      "h5 Write Time: 0.01 s \n",
      "h5 File Size: 1.03 MB\n",
      "Save to outnpy/lv2415_lv2414_20241205_12DB_LED_combine_3p25v_1p625v_1p36v_680mv_10000us_50hz_run0_raw_b0_seg0_single_gussain_scaled.h5py\n",
      "outnpy/lv2415_lv2414_20241205_12DB_LED_combine_3v_1p5v_1p36v_680mv_10000us_50hz_run0_raw_b0_seg0_single_gussain.h5py\n",
      "h5 Write Time: 0.01 s \n",
      "h5 File Size: 1.03 MB\n",
      "Save to outnpy/lv2415_lv2414_20241205_12DB_LED_combine_3v_1p5v_1p36v_680mv_10000us_50hz_run0_raw_b0_seg0_single_gussain_scaled.h5py\n",
      "outnpy/lv2415_lv2414_20241205_12DB_LED_combine_2p75v_1p375v_1p36v_680mv_10000us_50hz_run0_raw_b0_seg0_single_gussain.h5py\n",
      "h5 Write Time: 0.01 s \n",
      "h5 File Size: 1.03 MB\n",
      "Save to outnpy/lv2415_lv2414_20241205_12DB_LED_combine_2p75v_1p375v_1p36v_680mv_10000us_50hz_run0_raw_b0_seg0_single_gussain_scaled.h5py\n",
      "outnpy/lv2415_lv2414_20241205_12DB_LED_combine_2p5v_1p25v_1p36v_680mv_10000us_50hz_run0_raw_b0_seg0_single_gussain.h5py\n",
      "h5 Write Time: 0.01 s \n",
      "h5 File Size: 1.03 MB\n",
      "Save to outnpy/lv2415_lv2414_20241205_12DB_LED_combine_2p5v_1p25v_1p36v_680mv_10000us_50hz_run0_raw_b0_seg0_single_gussain_scaled.h5py\n",
      "outnpy/lv2415_lv2414_20241205_12DB_LED_combine_2p25v_1p125v_1p36v_680mv_10000us_50hz_run0_raw_b0_seg0_single_gussain.h5py\n",
      "h5 Write Time: 0.01 s \n",
      "h5 File Size: 1.03 MB\n",
      "Save to outnpy/lv2415_lv2414_20241205_12DB_LED_combine_2p25v_1p125v_1p36v_680mv_10000us_50hz_run0_raw_b0_seg0_single_gussain_scaled.h5py\n",
      "outnpy/lv2415_lv2414_20241205_12DB_LED_combine_2v_1v_1p36v_680mv_10000us_50hz_run0_raw_b0_seg0_single_gussain.h5py\n",
      "h5 Write Time: 0.01 s \n",
      "h5 File Size: 1.03 MB\n",
      "Save to outnpy/lv2415_lv2414_20241205_12DB_LED_combine_2v_1v_1p36v_680mv_10000us_50hz_run0_raw_b0_seg0_single_gussain_scaled.h5py\n",
      "outnpy/lv2415_lv2414_20241205_12DB_LED_combine_1p75v_875mv_1p36v_680mv_10000us_50hz_run0_raw_b0_seg0_single_gussain.h5py\n",
      "h5 Write Time: 0.01 s \n",
      "h5 File Size: 1.03 MB\n",
      "Save to outnpy/lv2415_lv2414_20241205_12DB_LED_combine_1p75v_875mv_1p36v_680mv_10000us_50hz_run0_raw_b0_seg0_single_gussain_scaled.h5py\n",
      "outnpy/lv2415_lv2414_20241205_12DB_LED_combine_1p5v_750mv_1p36v_680mv_10000us_50hz_run0_raw_b0_seg0_single_gussain.h5py\n",
      "h5 Write Time: 0.01 s \n",
      "h5 File Size: 1.03 MB\n",
      "Save to outnpy/lv2415_lv2414_20241205_12DB_LED_combine_1p5v_750mv_1p36v_680mv_10000us_50hz_run0_raw_b0_seg0_single_gussain_scaled.h5py\n"
     ]
    }
   ],
   "source": [
    "# flist = 'runlist/scale_file_list_test'\n",
    "flist = 'runlist/scale_file_list_correction'\n",
    "\n",
    "with open(flist, 'r') as list:\n",
    "    for line in list:       \n",
    "        file = line.rstrip('\\n')\n",
    "        print(file)\n",
    "        scale_to_PEns(file)"
   ]
  },
  {
   "cell_type": "markdown",
   "metadata": {},
   "source": [
    "### scale calibration data PE to PEns"
   ]
  },
  {
   "cell_type": "code",
   "execution_count": 1,
   "metadata": {},
   "outputs": [],
   "source": [
    "import numpy as np\n",
    "import pandas as pd\n",
    "import process_data\n",
    "def scale_to_PEns(df):\n",
    "    # df = pd.read_hdf(file, key='winfo')\n",
    "    Rft = constant.Rft\n",
    "    Rft_err= constant.Rft_err\n",
    "    GR_mu = constant.GR_mu\n",
    "    GR_err = constant.GR_err\n",
    "    PEns_filter = (df.Ch1_s2_mu * Rft)/df.S1_width\n",
    "    PEns_filter_err = (df.Ch1_s2_mu * Rft)/df.S1_width * np.sqrt( (df.Ch1_s2_sigma/df.Ch1_s2_mu )**2 + (Rft_err/Rft)**2 + (2/df.S1_width)**2)\n",
    "    PEns_dynode = (df.Ch2_s2_mu * GR_mu) /df.S1_width\n",
    "    PEns_dynode_err = (df.Ch2_s2_mu * GR_mu )/df.S1_width * np.sqrt((df.Ch2_s2_sigma/df.Ch2_s2_mu)**2 + (GR_err/GR_mu)**2  + (2/df.S1_width)**2)\n",
    "    PEns_anode = df.Ch0_s2_mu /df.S1_width\n",
    "    PEns_anode_err = df.Ch0_s2_mu /df.S1_width * np.sqrt((df.Ch0_s2_sigma/df.Ch0_s2_mu) **2  + (2/df.S1_width)**2)\n",
    "    df['PEns_filter'] = PEns_filter\n",
    "    df['PEns_filter_err'] = PEns_filter_err\n",
    "    df['PEns_dynode'] = PEns_dynode\n",
    "    df['PEns_dynode_err'] = PEns_dynode_err\n",
    "    df['PEns_anode'] = PEns_anode\n",
    "    df['PEns_anode_err'] = PEns_anode_err\n",
    "\n"
   ]
  },
  {
   "cell_type": "code",
   "execution_count": null,
   "metadata": {},
   "outputs": [],
   "source": [
    "import pandas as pd\n",
    "import numpy as np\n",
    "import constant\n",
    "# file = 'outnpy/lv2415_9DB_lv2414_0DB_20241210_1p75v_1p35v_calibration_single_gussain_fit_all.h5py'\n",
    "# file = 'outnpy/lv2415_9DB_lv2414_0DB_20241212_1p75v_3p35v_calibration_single_gussain_fit_all.h5py'\n",
    "file = 'outnpy/lv2415_20DB_lv2414_12DB_20241210_3p5v_2pv_calibration_single_gussain_fit_all.h5py'\n",
    "df = pd.read_hdf(file, key='winfo')\n",
    "scale_to_PEns(df)\n",
    "f_tag = file.split('.h5py')[0]\n",
    "path = r'{}_scaled_PEns.h5py'.format(f_tag)\n",
    "# print('saving to {}'.format(path))\n",
    "process_data.write_to_hdf5(df, path)\n",
    "    "
   ]
  },
  {
   "cell_type": "code",
   "execution_count": null,
   "metadata": {},
   "outputs": [],
   "source": []
  },
  {
   "cell_type": "code",
   "execution_count": null,
   "metadata": {},
   "outputs": [],
   "source": []
  }
 ],
 "metadata": {
  "kernelspec": {
   "display_name": "python3.8_env",
   "language": "python",
   "name": "python3"
  },
  "language_info": {
   "codemirror_mode": {
    "name": "ipython",
    "version": 3
   },
   "file_extension": ".py",
   "mimetype": "text/x-python",
   "name": "python",
   "nbconvert_exporter": "python",
   "pygments_lexer": "ipython3",
   "version": "3.8.19"
  }
 },
 "nbformat": 4,
 "nbformat_minor": 2
}
