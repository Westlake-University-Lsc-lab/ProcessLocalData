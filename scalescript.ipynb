{
 "cells": [
  {
   "cell_type": "code",
   "execution_count": 10,
   "metadata": {},
   "outputs": [],
   "source": [
    "\n",
    "import numpy as np\n",
    "import h5py\n",
    "import matplotlib.pyplot as plt\n",
    "from matplotlib.colors import LogNorm\n",
    "\n",
    "import analysis_data\n",
    "import process_data\n",
    "import pandas as pd\n",
    "# df_path = 'outnpy/S1_100ns_S2_1us_delta_t_100ns_to_1us.h5py'\n",
    "# df_path = 'outnpy/S1_2.4V_500ns_S2_1.36V_1us_delta_t_5us_to_200us.h5py'\n",
    "# df_path = 'outnpy/S1_2.9V_100ns_S2_1.36V_1us_delta_t_5us_to_30us.h5py'\n",
    "# df_path = 'outnpy/20241111_9DB_2.0v_900mv_1p9_1p36_5us_run0.h5py'\n",
    "# df_path = 'outnpy/20241111_9DB_2.0v_900mv_1p9_1p36_10us_run0.h5py'\n",
    "# df_path = 'outnpy/20241111_9DB_2.0v_900mv_1p9_1p36_30us_run0.h5py'\n",
    "# df_path = 'outnpy/20241111_9DB_2.0v_900mv_1p9_1p36_90us_run0.h5py'\n",
    "# df_path = 'outnpy/S1_2.0V_200ns_S2_1.36V_1us_delta_t_5us_to_200us.h5py'\n",
    "path = 'outnpy/S1_1.6V_152ns_S2_1.36V_1us_delta_t_5us_to_200us.h5py'\n",
    "df = pd.read_hdf(path, key='winfo')"
   ]
  },
  {
   "cell_type": "code",
   "execution_count": 12,
   "metadata": {},
   "outputs": [],
   "source": [
    "Ratio_of_filter = 83.55963261815212\n",
    "Ratio_of_filter_err= 2.611696693187247\n",
    "Gain_ratio_mu=121.26085465658046\n",
    "Gain_ratio_err=2.729860386508014"
   ]
  },
  {
   "cell_type": "code",
   "execution_count": 15,
   "metadata": {},
   "outputs": [],
   "source": [
    "filter_fix_s1 = df.Ch1_s1_mu * Ratio_of_filter\n",
    "filter_fix_s1_err = filter_fix_s1 * np.sqrt((df.Ch1_s1_sigma/df.Ch1_s1_mu)**2 + (Ratio_of_filter_err/Ratio_of_filter)**2)\n",
    "dynode_fix_s1 = df.Ch2_s1_mu * Gain_ratio_mu\n",
    "dynode_fix_s1_err = dynode_fix_s1 * np.sqrt((df.Ch2_s1_sigma/df.Ch2_s1_mu)**2 + (Gain_ratio_err/Gain_ratio_mu)**2)\n",
    "filter_fix_s2 = df.Ch1_s2_mu * Ratio_of_filter\n",
    "filter_fix_s2_err = filter_fix_s2 * np.sqrt((df.Ch1_s2_sigma/df.Ch1_s2_mu)**2 + (Ratio_of_filter_err/Ratio_of_filter)**2)\n",
    "dynode_fix_s2 = df.Ch2_s2_mu * Gain_ratio_mu\n",
    "dynode_fix_s2_err = dynode_fix_s2 * np.sqrt((df.Ch2_s2_sigma/df.Ch2_s2_mu)**2 + (Gain_ratio_err/Gain_ratio_mu)**2)"
   ]
  },
  {
   "cell_type": "code",
   "execution_count": 16,
   "metadata": {},
   "outputs": [],
   "source": [
    "df['filter_fix_s1'] = filter_fix_s1\n",
    "df['filter_fix_s1_err'] = filter_fix_s1_err\n",
    "df['dynode_fix_s1'] = dynode_fix_s1\n",
    "df['dynode_fix_s1_err'] = dynode_fix_s1_err\n",
    "df['filter_fix_s2'] = filter_fix_s2\n",
    "df['filter_fix_s2_err'] = filter_fix_s2_err\n",
    "df['dynode_fix_s2'] = dynode_fix_s2\n",
    "df['dynode_fix_s2_err'] = dynode_fix_s2_err"
   ]
  },
  {
   "cell_type": "code",
   "execution_count": 18,
   "metadata": {},
   "outputs": [
    {
     "name": "stdout",
     "output_type": "stream",
     "text": [
      "h5 Write Time: 0.01 s \n",
      "h5 File Size: 1.03 MB\n",
      "Save to outnpy/S1_1.6V_152ns_S2_1.36V_1us_delta_t_5us_to_200us_scaled.h5py\n"
     ]
    },
    {
     "data": {
      "text/plain": [
       "(0.01281428337097168, 1081773)"
      ]
     },
     "execution_count": 18,
     "metadata": {},
     "output_type": "execute_result"
    }
   ],
   "source": [
    "import process_data\n",
    "import pandas as pd\n",
    "# path = r'outnpy/{}_scaled.h5py'.format(file_tag)\n",
    "path = 'outnpy/S1_1.6V_152ns_S2_1.36V_1us_delta_t_5us_to_200us_scaled.h5py'\n",
    "process_data.write_to_hdf5(df, path)"
   ]
  },
  {
   "cell_type": "code",
   "execution_count": null,
   "metadata": {},
   "outputs": [],
   "source": []
  }
 ],
 "metadata": {
  "kernelspec": {
   "display_name": "python3.11_env",
   "language": "python",
   "name": "python3"
  },
  "language_info": {
   "codemirror_mode": {
    "name": "ipython",
    "version": 3
   },
   "file_extension": ".py",
   "mimetype": "text/x-python",
   "name": "python",
   "nbconvert_exporter": "python",
   "pygments_lexer": "ipython3",
   "version": "3.11.9"
  }
 },
 "nbformat": 4,
 "nbformat_minor": 2
}
