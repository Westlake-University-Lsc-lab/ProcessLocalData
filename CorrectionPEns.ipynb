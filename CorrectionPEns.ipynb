{
 "cells": [
  {
   "cell_type": "code",
   "execution_count": null,
   "metadata": {},
   "outputs": [],
   "source": [
    "import pandas as pd\n",
    "import numpy as np\n",
    "file = 'outnpy/lv2415_9DB_lv2414_0DB_20241211_1p5_3p5_dt_1us_S2_off_correction_single_gussain_fit.h5py'\n",
    "df_1us = pd.read_hdf(file, key='winfo')\n",
    "df_1us\n"
   ]
  },
  {
   "cell_type": "code",
   "execution_count": null,
   "metadata": {},
   "outputs": [],
   "source": [
    "import process_data\n",
    "voltage_map = {'3p5v_1p75v':3.50,'3v_1p5v':3.0,'2p5v_1p25v':2.50,'2v_1v':2.0,'1p5v_750mv':1.50,\n",
    "               '3p25v_1p625v':3.25, '2p75v_1p375v':2.75,'2p25v_1p125v':2.25,'1p75v_875mv':1.75 }\n",
    "# file_list = 'runlist/scale_file_list'\n",
    "file_list = 'runlist/scale_file_list_scaled'\n",
    "with open(file_list, 'r') as list:\n",
    "    for line in list: \n",
    "        file = line.rstrip('\\n')\n",
    "        voltage = file.split('combine_')[1].split('_1p36v_')[0]\n",
    "        v = voltage_map.get(voltage)        \n",
    "        df = pd.read_hdf(file, key='winfo')\n",
    "        # print(df_1us.Ch0_s2_mu[df_1us.Voltage == v].iloc[0])\n",
    "        mu = df.Ch0_s2_mu[df.Delta_t == 1].iloc[0] - df_1us.Ch0_s2_mu[df_1us.Voltage == v].iloc[0],\n",
    "        err = np.sqrt((df.Ch0_s2_sigma[df.Delta_t == 1].iloc[0])**2 + (df_1us.Ch0_s2_sigma[df_1us.Voltage == v ].iloc[0])**2)\n",
    "        PEns_anode = mu / df.S2_width[df.Delta_t == 1].iloc[0]\n",
    "        PEns_anode_err = mu / df.S2_width[df.Delta_t == 1].iloc[0] * np.sqrt((err/mu)**2 + (2/df.S2_width[df.Delta_t == 1].iloc[0])**2)\n",
    "        R2ref= PEns_anode/df.PEns_anode[df.Delta_t == 1000].iloc[0]\n",
    "        R2ref_err = PEns_anode/df.PEns_anode[df.Delta_t == 1000].iloc[0]*np.sqrt((df.PEns_anode_err[df.Delta_t == 1000].iloc[0]/df.PEns_anode[df.Delta_t == 1000].iloc[0]) **2  + (PEns_anode_err/PEns_anode) **2)\n",
    "        print('======================')\n",
    "        df.Ch0_s2_mu[df.Delta_t == 1]= mu\n",
    "        df.Ch0_s2_sigma[df.Delta_t == 1] = err\n",
    "        df.PEns_anode[df.Delta_t == 1] = PEns_anode\n",
    "        df.PEns_anode_err[df.Delta_t == 1] = PEns_anode_err\n",
    "        df.R2ref[df.Delta_t == 1] = R2ref\n",
    "        df.R2ref_err[df.Delta_t == 1] = R2ref_err\n",
    "        print(v, mu, err, PEns_anode, PEns_anode_err, R2ref, R2ref_err)\n",
    "        \n",
    "        path = file.replace('.h5py', '_corrected_1us.h5py')\n",
    "        process_data.write_to_hdf5(df, path)"
   ]
  },
  {
   "cell_type": "markdown",
   "metadata": {},
   "source": []
  },
  {
   "cell_type": "code",
   "execution_count": null,
   "metadata": {},
   "outputs": [],
   "source": []
  }
 ],
 "metadata": {
  "kernelspec": {
   "display_name": "python3.8_env",
   "language": "python",
   "name": "python3"
  },
  "language_info": {
   "codemirror_mode": {
    "name": "ipython",
    "version": 3
   },
   "file_extension": ".py",
   "mimetype": "text/x-python",
   "name": "python",
   "nbconvert_exporter": "python",
   "pygments_lexer": "ipython3",
   "version": "3.8.19"
  }
 },
 "nbformat": 4,
 "nbformat_minor": 2
}
