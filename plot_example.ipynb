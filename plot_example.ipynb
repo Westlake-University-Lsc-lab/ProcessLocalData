{
 "cells": [
  {
   "cell_type": "markdown",
   "metadata": {},
   "source": [
    "# Load the necessary libraries"
   ]
  },
  {
   "cell_type": "code",
   "execution_count": 1,
   "metadata": {},
   "outputs": [],
   "source": [
    "import pandas as pd\n",
    "import numpy as np\n",
    "import h5py\n",
    "import matplotlib.pyplot as plt\n",
    "from matplotlib.colors import LogNorm\n",
    "#from scipy.optimize import minimize\n",
    "from scipy import integrate\n",
    "#from iminuit import Minuit\n",
    "#from iminuit.cost import UnbinnedNLL\n",
    "from landaupy import landau\n",
    "from scipy.optimize import curve_fit\n",
    "\n",
    "import analysis_data\n",
    "run_info =[]"
   ]
  },
  {
   "cell_type": "code",
   "execution_count": 2,
   "metadata": {},
   "outputs": [],
   "source": [
    "def landau_distribution(xdata, mu,sigma, A):\n",
    "    landau = lambda t, mu, sigma, xdata, A : A*np.exp(-t)*np.cos(t*(xdata -mu)/sigma + 2*t/np.pi *np.log(t/sigma) ) / (sigma *  np.pi)\n",
    "    integral, error = integrate.quad(landau, 0, np.inf, args=(mu,sigma,xdata, A))\n",
    "    return integral\n",
    "\n",
    "def landau_distribution_array(xdata,mu, sigma, A):\n",
    "    return np.array([landau_distribution(x, mu,sigma, A) for x in xdata])"
   ]
  },
  {
   "cell_type": "markdown",
   "metadata": {},
   "source": [
    "# load data for debugging"
   ]
  },
  {
   "cell_type": "code",
   "execution_count": 3,
   "metadata": {},
   "outputs": [],
   "source": [
    "############################################ run file 20240821 h5py#####################\n",
    "#file = 'outnpy/LV2415_anodereadout_LV2414_dualreadout_20240821_LED_1.7V_11ns_400_ratio_run0.h5py'\n",
    "#file = 'outnpy/LV2415_anodereadout_LV2414_dualreadout_20240821_LED_1.7V_12ns_400_ratio_run0.h5py'\n",
    "#file = 'outnpy/LV2415_anodereadout_LV2414_dualreadout_20240821_LED_1.7V_13ns_400_ratio_run0.h5py'\n",
    "#file  = 'outnpy/LV2415_anodereadout_LV2414_dualreadout_20240821_LED_1.7V_14ns_400_ratio_run0.h5py'\n",
    "#file  = 'outnpy/LV2415_anodereadout_LV2414_dualreadout_20240821_LED_1.7V_15ns_400_ratio_run0.h5py'\n",
    "############################################ run file 20240826 h5py###################\n",
    "#file = 'outnpy/LV2415_anodereadout_LV2414_dualreadout_20240826_LED_1.175V_50ns_400_ratio_run0.h5py'\n",
    "#file = 'outnpy/LV2415_anodereadout_LV2414_dualreadout_20240826_LED_1.175V_47ns_400_ratio_run0.h5py'\n",
    "#file = 'outnpy/LV2415_anodereadout_LV2414_dualreadout_20240826_LED_1.175V_48ns_400_ratio_run0.h5py'\n",
    "#file = 'outnpy/LV2415_anodereadout_LV2414_dualreadout_20240826_LED_1.175V_49ns_400_ratio_run0.h5py'\n",
    "#file = 'outnpy/LV2415_anodereadout_LV2414_dualreadout_20240826_LED_1.175V_46ns_400_ratio_run0.h5py'\n",
    "#file = 'outnpy/LV2415_anodereadout_LV2414_dualreadout_20240826_LED_1.130V_65ns_400_ratio_run0.h5py'\n",
    "#file = 'outnpy/LV2415_anodereadout_LV2414_dualreadout_20240826_LED_1.13V_60ns_400_ratio_run0.h5py'\n",
    "#file = 'outnpy/LV2415_anodereadout_LV2414_dualreadout_20240826_LED_1.13V_61ns_400_ratio_run0.h5py'\n",
    "#file = 'outnpy/LV2415_anodereadout_LV2414_dualreadout_20240826_LED_1.13V_63ns_400_ratio_run0.h5py'\n",
    "#file = 'outnpy/LV2415_anodereadout_LV2414_dualreadout_20240826_LED_1.13V_63ns_400_ratio_run0_test.h5df'\n",
    "#file = 'outnpy/LV2415_anodereadout_LV2414_dualreadout_20240826_LED_1.13V_63ns_400_ratio_run0_debug_area.h5df'\n",
    "#file = 'outnpy/LV2415_anodereadout_LV2414_dualreadout_20240826_LED_1.7V_17ns_400_ratio_run0_debug_area.h5df'\n",
    "#file = 'outnpy/lv2415_anode_lv2414_dual_20240829_LED_1.045V_200ns_400_ratio_run0_debug.h5df'\n",
    "file =  'outnpy/lv2415_anode_lv2414_dual_20240829_LED_1.075V_100ns_400_ratio_run0.h5py'\n"
   ]
  },
  {
   "cell_type": "code",
   "execution_count": 5,
   "metadata": {},
   "outputs": [
    {
     "data": {
      "text/plain": [
       "'20240829_1.075V_100ns'"
      ]
     },
     "execution_count": 5,
     "metadata": {},
     "output_type": "execute_result"
    }
   ],
   "source": [
    "file_date = file.split('LED_')[0].split('dual_')[1]\n",
    "led_config = file.split('LED_')[1].split('_400')[0]\n",
    "file_tag = file_date + led_config\n",
    "file_tag"
   ]
  },
  {
   "cell_type": "code",
   "execution_count": 7,
   "metadata": {},
   "outputs": [
    {
     "data": {
      "text/html": [
       "<div>\n",
       "<style scoped>\n",
       "    .dataframe tbody tr th:only-of-type {\n",
       "        vertical-align: middle;\n",
       "    }\n",
       "\n",
       "    .dataframe tbody tr th {\n",
       "        vertical-align: top;\n",
       "    }\n",
       "\n",
       "    .dataframe thead th {\n",
       "        text-align: right;\n",
       "    }\n",
       "</style>\n",
       "<table border=\"1\" class=\"dataframe\">\n",
       "  <thead>\n",
       "    <tr style=\"text-align: right;\">\n",
       "      <th></th>\n",
       "      <th>Ch</th>\n",
       "      <th>TTT</th>\n",
       "      <th>Baseline</th>\n",
       "      <th>Hight</th>\n",
       "      <th>Area_fixrange</th>\n",
       "    </tr>\n",
       "  </thead>\n",
       "  <tbody>\n",
       "    <tr>\n",
       "      <th>1</th>\n",
       "      <td>1</td>\n",
       "      <td>229216</td>\n",
       "      <td>15340</td>\n",
       "      <td>11633</td>\n",
       "      <td>1106.206825</td>\n",
       "    </tr>\n",
       "    <tr>\n",
       "      <th>4</th>\n",
       "      <td>1</td>\n",
       "      <td>479212</td>\n",
       "      <td>15339</td>\n",
       "      <td>10148</td>\n",
       "      <td>1076.110939</td>\n",
       "    </tr>\n",
       "    <tr>\n",
       "      <th>8</th>\n",
       "      <td>1</td>\n",
       "      <td>729212</td>\n",
       "      <td>15340</td>\n",
       "      <td>11160</td>\n",
       "      <td>1082.761109</td>\n",
       "    </tr>\n",
       "    <tr>\n",
       "      <th>10</th>\n",
       "      <td>1</td>\n",
       "      <td>979212</td>\n",
       "      <td>15341</td>\n",
       "      <td>11754</td>\n",
       "      <td>1068.852459</td>\n",
       "    </tr>\n",
       "    <tr>\n",
       "      <th>13</th>\n",
       "      <td>1</td>\n",
       "      <td>1229208</td>\n",
       "      <td>15340</td>\n",
       "      <td>12654</td>\n",
       "      <td>1173.966388</td>\n",
       "    </tr>\n",
       "    <tr>\n",
       "      <th>...</th>\n",
       "      <td>...</td>\n",
       "      <td>...</td>\n",
       "      <td>...</td>\n",
       "      <td>...</td>\n",
       "      <td>...</td>\n",
       "    </tr>\n",
       "    <tr>\n",
       "      <th>372030</th>\n",
       "      <td>1</td>\n",
       "      <td>31002578440</td>\n",
       "      <td>15339</td>\n",
       "      <td>11779</td>\n",
       "      <td>1082.771420</td>\n",
       "    </tr>\n",
       "    <tr>\n",
       "      <th>372035</th>\n",
       "      <td>1</td>\n",
       "      <td>31002828436</td>\n",
       "      <td>15340</td>\n",
       "      <td>10724</td>\n",
       "      <td>1103.856068</td>\n",
       "    </tr>\n",
       "    <tr>\n",
       "      <th>372037</th>\n",
       "      <td>1</td>\n",
       "      <td>31003078436</td>\n",
       "      <td>15338</td>\n",
       "      <td>11507</td>\n",
       "      <td>1084.792247</td>\n",
       "    </tr>\n",
       "    <tr>\n",
       "      <th>372040</th>\n",
       "      <td>1</td>\n",
       "      <td>31003328436</td>\n",
       "      <td>15338</td>\n",
       "      <td>11570</td>\n",
       "      <td>1126.177956</td>\n",
       "    </tr>\n",
       "    <tr>\n",
       "      <th>372043</th>\n",
       "      <td>1</td>\n",
       "      <td>31003578432</td>\n",
       "      <td>15339</td>\n",
       "      <td>12248</td>\n",
       "      <td>1084.122074</td>\n",
       "    </tr>\n",
       "  </tbody>\n",
       "</table>\n",
       "<p>124015 rows × 5 columns</p>\n",
       "</div>"
      ],
      "text/plain": [
       "        Ch          TTT  Baseline  Hight  Area_fixrange\n",
       "1        1       229216     15340  11633    1106.206825\n",
       "4        1       479212     15339  10148    1076.110939\n",
       "8        1       729212     15340  11160    1082.761109\n",
       "10       1       979212     15341  11754    1068.852459\n",
       "13       1      1229208     15340  12654    1173.966388\n",
       "...     ..          ...       ...    ...            ...\n",
       "372030   1  31002578440     15339  11779    1082.771420\n",
       "372035   1  31002828436     15340  10724    1103.856068\n",
       "372037   1  31003078436     15338  11507    1084.792247\n",
       "372040   1  31003328436     15338  11570    1126.177956\n",
       "372043   1  31003578432     15339  12248    1084.122074\n",
       "\n",
       "[124015 rows x 5 columns]"
      ]
     },
     "execution_count": 7,
     "metadata": {},
     "output_type": "execute_result"
    }
   ],
   "source": [
    "df = pd.read_hdf(file, key='winfo')\n",
    "df[df.Ch==1]"
   ]
  },
  {
   "cell_type": "code",
   "execution_count": 8,
   "metadata": {},
   "outputs": [
    {
     "data": {
      "text/plain": [
       "(391.97275329597227, 1283)"
      ]
     },
     "execution_count": 8,
     "metadata": {},
     "output_type": "execute_result"
    }
   ],
   "source": [
    "np.mean(df.Hight[df.Ch ==0]), np.max(df.Hight[df.Ch ==0])"
   ]
  },
  {
   "cell_type": "code",
   "execution_count": 9,
   "metadata": {},
   "outputs": [
    {
     "data": {
      "text/plain": [
       "'\\nn =3\\nwave_0 = df.Wave[:][n]\\nbaseline_0 = df.Baseline[:][n]\\nst_0 = df.St[:][n]\\ned_0 = df.Ed[:][n]\\nlp_0 = df.Minp[:][n]\\nttt_0 =  df.TTT[:][n]\\narea_0 = df.Area[:][n]\\n\\nm =1\\nwave_2 = df.Wave[:][m]\\nbaseline_2 = df.Baseline[:][m]\\nst_2 = df.St[:][m]\\ned_2 = df.Ed[:][m]\\nlp_2 = df.Minp[:][m]\\nttt_2 = df.TTT[:][m]\\narea_2 = df.Area_fixrange[:][m]\\n'"
      ]
     },
     "execution_count": 9,
     "metadata": {},
     "output_type": "execute_result"
    }
   ],
   "source": [
    "\"\"\"\n",
    "n =3\n",
    "wave_0 = df.Wave[:][n]\n",
    "baseline_0 = df.Baseline[:][n]\n",
    "st_0 = df.St[:][n]\n",
    "ed_0 = df.Ed[:][n]\n",
    "lp_0 = df.Minp[:][n]\n",
    "ttt_0 =  df.TTT[:][n]\n",
    "area_0 = df.Area[:][n]\n",
    "\n",
    "m =1\n",
    "wave_2 = df.Wave[:][m]\n",
    "baseline_2 = df.Baseline[:][m]\n",
    "st_2 = df.St[:][m]\n",
    "ed_2 = df.Ed[:][m]\n",
    "lp_2 = df.Minp[:][m]\n",
    "ttt_2 = df.TTT[:][m]\n",
    "area_2 = df.Area_fixrange[:][m]\n",
    "\"\"\""
   ]
  },
  {
   "cell_type": "code",
   "execution_count": 10,
   "metadata": {},
   "outputs": [
    {
     "data": {
      "text/plain": [
       "\"\\n#analysis_data.plot_waveform(wave_0, baseline_0, st_0, ed_0, lp_0,90,200, ch='Anode',ttt=ttt_0, area=area_0)\\n#analysis_data.plot_waveform(wave_2, baseline_2, st_2, ed_2, lp_2,80,200, pmt='LV2415',  ttt=ttt_2, area=area_2)\\n\""
      ]
     },
     "execution_count": 10,
     "metadata": {},
     "output_type": "execute_result"
    }
   ],
   "source": [
    "\"\"\"\n",
    "#analysis_data.plot_waveform(wave_0, baseline_0, st_0, ed_0, lp_0,90,200, ch='Anode',ttt=ttt_0, area=area_0)\n",
    "#analysis_data.plot_waveform(wave_2, baseline_2, st_2, ed_2, lp_2,80,200, pmt='LV2415',  ttt=ttt_2, area=area_2)\n",
    "\"\"\""
   ]
  },
  {
   "cell_type": "code",
   "execution_count": 11,
   "metadata": {},
   "outputs": [],
   "source": [
    "area_ch0 = df.Area_fixrange[df.Ch==1 ].astype(np.float64).to_numpy()\n",
    "area_ch1 = df.Area_fixrange[df.Ch==0 ].astype(np.float64).to_numpy()\n",
    "area_ch2 = df.Area_fixrange[df.Ch==2 ].astype(np.float64).to_numpy()\n"
   ]
  },
  {
   "cell_type": "code",
   "execution_count": 12,
   "metadata": {},
   "outputs": [
    {
     "data": {
      "text/plain": [
       "(array([1106.20682545, 1076.11093927, 1082.76110939, ..., 1084.79224662,\n",
       "        1126.17795649, 1084.12207444]),\n",
       " array([33.76997339, 32.45876772, 22.04625214, ..., 19.46240568,\n",
       "        30.76191333, 29.14218869]),\n",
       " array([1106.20682545, 1076.11093927, 1076.11093927, ..., 1084.79224662,\n",
       "        1126.17795649, 1084.12207444]))"
      ]
     },
     "execution_count": 12,
     "metadata": {},
     "output_type": "execute_result"
    }
   ],
   "source": [
    "area_ch0, area_ch1, area_ch2"
   ]
  },
  {
   "cell_type": "markdown",
   "metadata": {},
   "source": [
    "# define the range and number of bins to fit histogram of area distribution"
   ]
  },
  {
   "cell_type": "code",
   "execution_count": 13,
   "metadata": {},
   "outputs": [],
   "source": [
    "ratio = area_ch0/area_ch1\n",
    "mean_ch0 = np.mean(area_ch0)\n",
    "std_ch0 = np.std(area_ch0)\n",
    "nbins_ch0 = round(np.max(area_ch0)-np.min(area_ch0))\n",
    "left_edge_ch0 = np.min(area_ch0)\n",
    "right_edge_ch0 = np.max(area_ch0)\n",
    "amplitude_ch0 = len(area_ch0)\n",
    "\n",
    "mean_ch1 = np.mean(area_ch1)\n",
    "std_ch1 = np.std(area_ch1)\n",
    "nbins_ch1 = round(np.max(area_ch1)-np.min(area_ch1))\n",
    "left_edge_ch1 = np.min(area_ch1)\n",
    "right_edge_ch1 = np.max(area_ch1)\n",
    "amplitude_ch1 = len(area_ch1)\n",
    "\n",
    "mean_ch2 = np.mean(-area_ch2)\n",
    "std_ch2 = np.std(-area_ch2)\n",
    "nbins_ch2 = round(np.max(-area_ch2)-np.min(-area_ch2))\n",
    "left_edge_ch2 = np.min(-area_ch2)\n",
    "right_edge_ch2 = np.max(-area_ch2)\n",
    "amplitude_ch2 = len(-area_ch2)\n",
    "   \n"
   ]
  },
  {
   "cell_type": "code",
   "execution_count": 14,
   "metadata": {},
   "outputs": [
    {
     "data": {
      "text/plain": [
       "(-1099.7564897913123,\n",
       " 110.91146156466769,\n",
       " -1248.7163625115993,\n",
       " -9.795477625946447,\n",
       " 1239,\n",
       " 124015)"
      ]
     },
     "execution_count": 14,
     "metadata": {},
     "output_type": "execute_result"
    }
   ],
   "source": [
    "mean_ch2, std_ch2 ,left_edge_ch2 , right_edge_ch2, nbins_ch2 , amplitude_ch2"
   ]
  },
  {
   "cell_type": "code",
   "execution_count": 15,
   "metadata": {},
   "outputs": [
    {
     "data": {
      "text/plain": [
       "array([-1.        , -1.        , -1.00617982, ..., -1.        ,\n",
       "       -1.        , -1.        ])"
      ]
     },
     "execution_count": 15,
     "metadata": {},
     "output_type": "execute_result"
    }
   ],
   "source": []
  },
  {
   "cell_type": "code",
   "execution_count": 16,
   "metadata": {},
   "outputs": [
    {
     "data": {
      "image/png": "[encoded data removed]",
      "text/plain": [
       "<Figure size 640x480 with 1 Axes>"
      ]
     },
     "metadata": {},
     "output_type": "display_data"
    },
    {
     "name": "stdout",
     "output_type": "stream",
     "text": [
      "Ch2 Area Fit: mu= -1110.26, sigma =32.34\n"
     ]
    }
   ],
   "source": [
    "hist, bins_edges = np.histogram( -area_ch2, bins= nbins_ch2*10, range=(left_edge_ch2, right_edge_ch2))\n",
    "bins = (bins_edges[:-1] + bins_edges[1:])/2\n",
    "popt, pcov = curve_fit(analysis_data.gaussian, bins, hist, p0=[amplitude_ch2, mean_ch2,  std_ch2])\n",
    "x_fit = np.linspace(np.min(bins), np.max(bins), 1000)\n",
    "y_fit = analysis_data.gaussian(x_fit, *popt)\n",
    "plt.plot(x_fit, y_fit, label=r'$\\mu$={:.2f}, $\\sigma$={:.2f}'.format(popt[1], popt[2]))\n",
    "#plt.hist(area_ch0, bins=nbins_ch0, range=(left_edge_ch0, right_edge_ch0),  color='black', density=False, alpha=0.5, label='Ch0 Area')\n",
    "plt.hist( -area_ch2, bins=nbins_ch2*10, range=(left_edge_ch2, right_edge_ch2),  color='black', density=False, alpha=0.5, label='Ch0 Area')\n",
    "plt.xlabel('Dynode Area[PE]')\n",
    "plt.ylabel('Entries')\n",
    "plt.title(r'LED {} Dynode Area'.format(file_tag))\n",
    "plt.legend()\n",
    "plt.savefig(r'./res/LED_{}_Ch2_Area_fit_{:.2f}_PE_sigma_{:.2f}.png'.format(file_tag,popt[1], popt[2]),dpi=300)\n",
    "plt.show()\n",
    "print(r'Ch2 Area Fit: mu= {:.2f}, sigma ={:.2f}'.format(popt[1], popt[2]))\n",
    "Ch2_area_pe_mu = popt[1]\n",
    "Ch2_area_pe_sigma = popt[2]"
   ]
  },
  {
   "cell_type": "code",
   "execution_count": null,
   "metadata": {},
   "outputs": [],
   "source": [
    "mean_ch0, std_ch0 ,left_edge_ch0 , right_edge_ch0, nbins_ch0 , amplitude_ch0"
   ]
  },
  {
   "cell_type": "code",
   "execution_count": null,
   "metadata": {},
   "outputs": [],
   "source": [
    "\n",
    "#3if nbins_ch0 > 300:\n",
    "#    nbins_ch0 = 200\n",
    "\n",
    "#    left_edge_ch0 = mean_ch0 -150\n",
    "#    right_edge_ch0 = mean_ch0 + 150"
   ]
  },
  {
   "cell_type": "code",
   "execution_count": null,
   "metadata": {},
   "outputs": [],
   "source": [
    "hist, bins_edges = np.histogram(area_ch0, bins= nbins_ch0, range=(left_edge_ch0, right_edge_ch0))\n",
    "bins = (bins_edges[:-1] + bins_edges[1:])/2\n",
    "popt, pcov = curve_fit(analysis_data.gaussian, bins, hist, p0=[amplitude_ch0, mean_ch0,  std_ch0])\n",
    "x_fit = np.linspace(np.min(bins), np.max(bins), 1000)\n",
    "y_fit = analysis_data.gaussian(x_fit, *popt)\n",
    "plt.plot(x_fit, y_fit, label=r'$\\mu$={:.2f}, $\\sigma$={:.2f}'.format(popt[1], popt[2]))\n",
    "#plt.hist(area_ch0, bins=nbins_ch0, range=(left_edge_ch0, right_edge_ch0),  color='black', density=False, alpha=0.5, label='Ch0 Area')\n",
    "plt.hist(area_ch0, bins=nbins_ch0, range=(left_edge_ch0, right_edge_ch0),  color='black', density=False, alpha=0.5, label='Ch0 Area')\n",
    "plt.xlabel('Ch0 Area[PE]')\n",
    "plt.ylabel('Entries')\n",
    "plt.title(r'LED {} Ch0 Area'.format(file_tag))\n",
    "plt.legend()\n",
    "plt.savefig(r'./res/LED_{}_Ch0_Area_fit_{:.2f}_PE_sigma_{:.2f}.png'.format(file_tag,popt[1], popt[2]),dpi=300)\n",
    "plt.show()\n",
    "print(r'Ch0 Area Fit: mu= {:.2f}, sigma ={:.2f}'.format(popt[1], popt[2]))\n",
    "Ch0_area_pe_mu = popt[1]\n",
    "Ch0_area_pe_sigma = popt[2]"
   ]
  },
  {
   "cell_type": "code",
   "execution_count": null,
   "metadata": {},
   "outputs": [],
   "source": [
    "mean_ch1, std_ch1 ,left_edge_ch1 , right_edge_ch1, nbins_ch1, amplitude_ch1"
   ]
  },
  {
   "cell_type": "code",
   "execution_count": null,
   "metadata": {},
   "outputs": [],
   "source": [
    "if nbins_ch1 > 300:\n",
    "    nbins_ch1= 200\n",
    "    left_edge_ch1 = mean_ch1 -100\n",
    "    right_edge_ch1= mean_ch1 + 100"
   ]
  },
  {
   "cell_type": "code",
   "execution_count": null,
   "metadata": {},
   "outputs": [],
   "source": [
    "hist_, bins__edges_ = np.histogram(area_ch1, bins= nbins_ch1, range=(left_edge_ch1, right_edge_ch1))\n",
    "bins_ = (bins__edges_[:-1] + bins__edges_[1:])/2\n",
    "popt, pcov = curve_fit(analysis_data.gaussian, bins_, hist_, p0=[1.E4, mean_ch1,  20])\n",
    "x_fit = np.linspace(np.min(bins_), np.max(bins_), 1000)\n",
    "y_fit = analysis_data.gaussian(x_fit, *popt)\n",
    "plt.plot(x_fit, y_fit, label=r'$\\mu$={:.2f}, $\\sigma$={:.2f}'.format(popt[1], popt[2]))\n",
    "#plt.hist(area_ch0, bins=nbins_ch0, range=(left_edge_ch0, right_edge_ch0),  color='black', density=False, alpha=0.5, label='Ch0 Area')\n",
    "plt.hist(area_ch1, bins=nbins_ch1, range=(left_edge_ch1, right_edge_ch1),  color='black', density=False, alpha=0.5, label='Ch0 Area')\n",
    "plt.xlabel('Ch1 LV2415 Area[PE]')\n",
    "plt.ylabel('Entries')\n",
    "plt.title(r'LED {} LV2415 Area'.format(file_tag))\n",
    "plt.legend()\n",
    "plt.savefig(r'./res/LED_{}_Ch0_Area_fit_{:.2f}_PE_sigma_{:.2f}.png'.format(file_tag,popt[1], popt[2]),dpi=300)\n",
    "plt.show()\n",
    "print(r'Ch1 Area Fit: mu= {:.2f}, sigma ={:.2f}'.format(popt[1], popt[2]))\n",
    "Ch1_area_pe_mu = popt[1]\n",
    "Ch1_area_pe_sigma = popt[2]"
   ]
  },
  {
   "cell_type": "code",
   "execution_count": null,
   "metadata": {},
   "outputs": [],
   "source": [
    "if Ch0_area_pe_mu < 25:\n",
    "        ratio_right_edge = 30\n",
    "        ratio_mean = 20\n",
    "if Ch0_area_pe_mu > 25 and Ch0_area_pe_mu < 50:\n",
    "        ratio_right_edge = 150\n",
    "        ratio_mean = 30\n",
    "if Ch0_area_pe_mu > 50:\n",
    "        ratio_right_edge = 200\n",
    "        ratio_mean  =30\n",
    "if Ch0_area_pe_mu > 300:\n",
    "        ratio_right_edge = 200\n",
    "        ratio_mean  =40\n",
    "if Ch0_area_pe_mu > 500:\n",
    "        ratio_right_edge = 250\n",
    "        ratio_mean  =50\n",
    "if mean_ch1 < 10:\n",
    "        nbins_ch1 = 5"
   ]
  },
  {
   "cell_type": "code",
   "execution_count": null,
   "metadata": {},
   "outputs": [],
   "source": [
    "plt.hist2d(area_ch0, ratio, bins=[\n",
    "    np.linspace(left_edge_ch0,right_edge_ch0, nbins_ch0),\n",
    "    np.linspace(0, 100,100)\n",
    "] , norm=LogNorm(), cmap='jet')\n",
    "plt.colorbar()\n",
    "#plt.yscale('log')\n",
    "plt.xlabel('Ch0 Area[PE]')\n",
    "plt.ylabel('Ch0/Ch1 Ratio')\n",
    "plt.title(r'LED {} Ch0 Area vs Ch0/Ch1 Ratio'.format(file_tag))\n",
    "plt.savefig(r'./res/LED_{}_Ch0_Area_vs_Ch0_Ch1_Ratio.png'.format(file_tag),dpi=300)\n",
    "plt.show()"
   ]
  },
  {
   "cell_type": "markdown",
   "metadata": {},
   "source": [
    "# Try to fit ratio dsitrubution of two datasets using Landau distribution"
   ]
  },
  {
   "cell_type": "code",
   "execution_count": null,
   "metadata": {},
   "outputs": [],
   "source": [
    "hist, bins_edges =np.histogram(gain_ratio, bins=200, range=(50, 200))\n",
    "bins = (bins_edges[:-1] + bins_edges[1:])/2\n",
    "popt, pcov = curve_fit(analysis_data.gaussian, bins, hist , p0=[3000, 100, 30])\n",
    "\n",
    "x_fit = np.linspace(np.min(bins), np.max(bins), 1000)\n",
    "y_fit = analysis_data.gaussian(x_fit, popt[0], popt[1],popt[2])\n",
    "fig, ax = plt.subplots()\n",
    "ax.hist(gain_ratio, bins=200, range=(50, 200), density=False, alpha=0.5, label='Ratio')\n",
    "ax.plot(x_fit, y_fit, 'r-',color='black',  label=r'$\\mu$={:.2f}, $\\sigma$={:.2f}, A={:.2f}'.format(popt[1],popt[2],popt[0]))\n",
    "ax.set_xlabel('Ch0/CH1 Ratio')\n",
    "ax.set_ylabel('PDF')\n",
    "ax.set_title('Landau Distribution')\n",
    "ax.legend()\n",
    "plt.savefig(r'./res/LED_{}_Ch0_CH1_Ratio_fit_mu_{:.2f}_sigma_{:.2f}.png'.format(file_tag,popt[1],popt[1] ),dpi=300)\n",
    "plt.show()\n",
    "print(r'Ratio Fitting Result: mu= {:.2f}, sigma= {:.2f}'.format(popt[1],popt[2]))\n",
    "Ratio_fit_mu = popt[0]\n",
    "Ratio_fit_sigma = popt[1]"
   ]
  },
  {
   "cell_type": "code",
   "execution_count": null,
   "metadata": {},
   "outputs": [],
   "source": [
    "Ratio_fit_mu = Ch0_area_pe_mu/Ch1_area_pe_mu \n",
    "Ratio_fit_sigma= Ratio_fit_mu* np.sqrt((Ch0_area_pe_sigma / Ch0_area_pe_mu )**2  + (Ch1_area_pe_sigma / Ch1_area_pe_mu )**2 )"
   ]
  },
  {
   "cell_type": "markdown",
   "metadata": {},
   "source": [
    "# store the run info to DateFrame"
   ]
  },
  {
   "cell_type": "code",
   "execution_count": null,
   "metadata": {},
   "outputs": [],
   "source": [
    "Ch0_area_pe_mu, Ch0_area_pe_sigma, Ch1_area_pe_mu, Ch1_area_pe_sigma, Ch2_area_pe_mu, Ch2_area_pe_sigma, Ratio_fit_mu , Ratio_fit_sigma,file_tag"
   ]
  },
  {
   "cell_type": "code",
   "execution_count": null,
   "metadata": {},
   "outputs": [],
   "source": [
    "\n",
    "run_info.append({\n",
    "        'Ch0_Area_mu': Ch0_area_pe_mu,\n",
    "        'Ch0_Area_sigma': Ch0_area_pe_sigma,\n",
    "        'Ch1_Area_mu': Ch1_area_pe_mu,\n",
    "        'Ch1_Area_sigma': Ch1_area_pe_sigma,\n",
    "        'Ch2_Area_mu': Ch2_area_pe_mu,\n",
    "        'Ch2_Area_sigma': Ch2_area_pe_sigma,\n",
    "        'Ratio_fit_mu': Ratio_fit_mu,\n",
    "        'Ratio_fit_sigma': Ratio_fit_sigma,\n",
    "        #'Gain_ratio_fit_mu': gain_ratio_fit_mu,\n",
    "        #'Gain_ratio_fit_sigma': gain_ratio_fit_sigma,\n",
    "        'file_tag': file_tag            \n",
    "    })"
   ]
  },
  {
   "cell_type": "code",
   "execution_count": null,
   "metadata": {},
   "outputs": [],
   "source": [
    "df0 = pd.DataFrame(run_info)\n",
    "df0"
   ]
  },
  {
   "cell_type": "code",
   "execution_count": null,
   "metadata": {},
   "outputs": [],
   "source": [
    "import process_data\n",
    "import pandas as pd\n",
    "df_path = 'outnpy/df_larger_400pe_20240826.h5py'\n",
    "df = pd.read_hdf(df_path, key='winfo')\n",
    "df[8:]"
   ]
  },
  {
   "cell_type": "code",
   "execution_count": null,
   "metadata": {},
   "outputs": [],
   "source": [
    "tmp = {\n",
    "        'Ch0_Area_mu': Ch0_area_pe_mu,\n",
    "        'Ch0_Area_sigma': Ch0_area_pe_sigma,\n",
    "        'Ch1_Area_mu': Ch1_area_pe_mu,\n",
    "        'Ch1_Area_sigma': Ch1_area_pe_sigma,\n",
    "        'Ch2_Area_mu': Ch2_area_pe_mu,\n",
    "        'Ch2_Area_sigma': Ch2_area_pe_sigma,\n",
    "        'Ratio_fit_mu': Ratio_fit_mu,\n",
    "        'Ratio_fit_sigma': Ratio_fit_sigma,\n",
    "        #'Gain_ratio_fit_mu': gain_ratio_fit_mu,\n",
    "        #'Gain_ratio_fit_sigma': gain_ratio_fit_sigma,\n",
    "        'file_tag': file_tag            \n",
    "    }"
   ]
  },
  {
   "cell_type": "code",
   "execution_count": null,
   "metadata": {},
   "outputs": [],
   "source": [
    "#df.loc[len(df)] = tmp"
   ]
  },
  {
   "cell_type": "markdown",
   "metadata": {},
   "source": [
    "# Plot Ch0 area with PE and Ch0/Ch1 ratio "
   ]
  },
  {
   "cell_type": "code",
   "execution_count": null,
   "metadata": {},
   "outputs": [],
   "source": [
    "LED_config_1p7V   = np.array(['1.7V_11ns', '1.7V_12ns', '1.7V_13ns', '1.7V_14ns', '1.7V_15ns', '1.7V_15.5ns', '1.7V_16ns', '1.7V_16.6ns', '1.7V_17ns', '1.7V_15ns','1.7V_14.5ns', '1.7V_14ns', '1.7V_13.5ns', \n",
    "                              '1.7V_13ns', '1.7V_17.5ns', '1.175V_50ns','1.175V_47ns', '1.175V_48ns', '1.175V_49ns','1.175V_46ns','1.175V_65ns', '1.175V_60ns','1.175V_61ns','1.175V_61ns'  ])\n",
    "Ch0_area_pe       = np.array([8.99, 30.76, 76.65, 154.51, 268.25, 161.94, 217.5, 283.39, 359.40, 115.72, 79.24, 51.17, 30.86, 17.12, 431.44, 639.75, 465.27, 518.33, 578.45, 415.39, 936.07, 670.12, 716.79, 815.88])\n",
    "Ch0_area_pe_err   = np.array([3.27, 5.98,  9.38,  13.20,  17.05,  13.42,  15.32, 17.32,  19.30,  11.44,  9.47,  7.62,  5.91,  4.43,  16.50,  26.40,  22.66,  23.76,  25.10,  21.40,  32.06,  27.33,  28.29,  30.00])\n",
    "Ch0_Ch1_ratio     = np.array([6.90, 19.60, 29.79, 34.93,  37.900, 38.15,  40.03, 41.57,  42.40,  35.67,  32.30, 27.48, 20.51, 12.84, 41.83,  50.88,  48.82,  49.59,  50.21,  48.11,  65.10,  59.72,  60.82,  62.91])\n",
    "Ch0_Ch1_ratio_err = np.array([2.53, 6.91,  10.26, 9.70,   6.82,   10.77,  10.15, 9.47,   8.69,   11.11,  11.26, 9.95,  7.13,  4.26,  7.76,   10.44,  10.91,  10.72,  10.48,  11.11,  14.66,  14.03,  14.11,  14.39])\n",
    "\n",
    "fig, ax = plt.subplots(figsize=(8,6))\n",
    "ax.errorbar(Ch0_area_pe, Ch0_Ch1_ratio, xerr=Ch0_area_pe_err, yerr=Ch0_Ch1_ratio_err, fmt='o',  capsize=5, elinewidth=2, capthick=2, label='Ratio')\n",
    "ax.set_xlabel('Ch0 Area [PE]')\n",
    "ax.set_ylabel('Ch0/Ch1 Ratio')\n",
    "ax.set_title('Ch0/Ch1 Ratio vs Ch0 Area')\n",
    "ax.legend()\n",
    "#plt.savefig(r'./res/Ch0_CH1_Ratio_vs_Ch0_Area_with_LED_{}.png'.format(v_value ),dpi=300)\n",
    "plt.show()"
   ]
  }
 ],
 "metadata": {
  "kernelspec": {
   "display_name": "Python 3 (ipykernel)",
   "language": "python",
   "name": "python3"
  },
  "language_info": {
   "codemirror_mode": {
    "name": "ipython",
    "version": 3
   },
   "file_extension": ".py",
   "mimetype": "text/x-python",
   "name": "python",
   "nbconvert_exporter": "python",
   "pygments_lexer": "ipython3",
   "version": "3.8.19"
  }
 },
 "nbformat": 4,
 "nbformat_minor": 2
}
