{
 "cells": [
  {
   "cell_type": "markdown",
   "metadata": {},
   "source": [
    "# Load the necessary libraries"
   ]
  },
  {
   "cell_type": "code",
   "execution_count": null,
   "metadata": {},
   "outputs": [],
   "source": [
    "import pandas as pd\n",
    "import numpy as np\n",
    "import h5py\n",
    "import matplotlib.pyplot as plt\n",
    "from matplotlib.colors import LogNorm\n",
    "#from scipy.optimize import minimize\n",
    "from scipy import integrate\n",
    "#from iminuit import Minuit\n",
    "#from iminuit.cost import UnbinnedNLL\n",
    "from landaupy import landau\n",
    "from scipy.optimize import curve_fit"
   ]
  },
  {
   "cell_type": "code",
   "execution_count": null,
   "metadata": {},
   "outputs": [],
   "source": [
    "def landau_distribution(xdata, mu,sigma, A):\n",
    "    landau = lambda t, mu, sigma, xdata, A : A*np.exp(-t)*np.cos(t*(xdata -mu)/sigma + 2*t/np.pi *np.log(t/sigma) ) / (sigma *  np.pi)\n",
    "    integral, error = integrate.quad(landau, 0, np.inf, args=(mu,sigma,xdata, A))\n",
    "    return integral\n",
    "\n",
    "def landau_distribution_array(xdata,mu, sigma, A):\n",
    "    return np.array([landau_distribution(x, mu,sigma, A) for x in xdata])\n",
    "\n",
    "def landau_fit(xdata, location, scale, A):\n",
    "    mu = location\n",
    "    sigma = scale\n",
    "    return A*landau.pdf(xdata, mu, sigma)\n",
    "\n",
    "def gaussian(x, a, mu, sigma):\n",
    "    return a * np.exp(-(x - mu)**2 / (2 * sigma**2))\n",
    "\n",
    "def load_runlist_to_numpy(runlist_path):\n",
    "    with open(runlist_path, 'r') as file:\n",
    "        runlist = file.readlines()\n",
    "    runlist = [run.strip() for run in runlist]\n",
    "    return np.array(runlist)\n",
    "    \n",
    "def load_runlist_to_numpy(runlist_path):\n",
    "    with open(runlist_path, 'r') as file:\n",
    "        runlist = file.readlines()\n",
    "    runlist = [run.strip() for run in runlist]\n",
    "    return np.array(runlist)\n",
    "\n",
    "def plot_waveform(wave, baseline, st, ed, lp):\n",
    "    import matplotlib.pyplot as plt\n",
    "    import numpy as np\n",
    "    plt.figure()\n",
    "    plt.step(np.arange(len(wave)), wave, where='mid')\n",
    "    plt.axhline(y=baseline, color='b', linestyle='--', label='Baseline')  # 基线\n",
    "    plt.axhline(y=baseline -20, color='r', linestyle='--', label='Threshold')  # 阈值\n",
    "    plt.scatter(st, wave[st], color='r', marker='o', label='start')  # 起始点\n",
    "    plt.scatter(ed, wave[ed], color='g', marker='o', label='end')  # 结束点\n",
    "    plt.scatter(lp, wave[lp], color='b', marker='o', label='minpoint')  # 最低点\n",
    "    plt.xlabel('Time [4 ns]')\n",
    "    plt.ylabel('ADC Count')\n",
    "    plt.legend()\n",
    "    plt.xlim(80,150)\n",
    "    plt.show()"
   ]
  },
  {
   "cell_type": "markdown",
   "metadata": {},
   "source": [
    "# build an list or array to store run information"
   ]
  },
  {
   "cell_type": "code",
   "execution_count": null,
   "metadata": {},
   "outputs": [],
   "source": [
    "run_info =[]\n",
    "runlist = 'runlist/LED_20240821_20240826_h5py_runlist_test'\n",
    "runs = load_runlist_to_numpy(runlist)\n",
    "print(runs)\n",
    "len(runs)"
   ]
  },
  {
   "cell_type": "code",
   "execution_count": null,
   "metadata": {},
   "outputs": [],
   "source": [
    "for file in runs:\n",
    "    file_date = file.split('LED_')[0].split('readout_')[2]\n",
    "    led_config = file.split('LED_')[1].split('_400')[0]\n",
    "    file_tag = file_date + led_config\n",
    "    #print(file_tag)\n",
    "    df = pd.read_hdf(file, key='winfo')\n",
    "    area_ch0 = df.Area[df.Ch==0 ].astype(np.float64).to_numpy()\n",
    "    area_ch1 = df.Area_fixrange[df.Ch==1 ].astype(np.float64).to_numpy()\n",
    "    #df.head()\n",
    "    ratio = area_ch0/area_ch1\n",
    "    mean_ch0 = np.mean(area_ch0)\n",
    "    std_ch0 = np.std(area_ch0)\n",
    "    nbins_ch0 = round(np.max(area_ch0)-np.min(area_ch0))\n",
    "    left_edge_ch0 = np.min(area_ch0)\n",
    "    right_edge_ch0 = np.max(area_ch0)\n",
    "    amplitude_ch0 = len(area_ch0)\n",
    "    mean_ch1 = np.mean(area_ch1)\n",
    "    std_ch1 = np.std(area_ch1)\n",
    "    nbins_ch1 = round(np.max(area_ch1)-np.min(area_ch1))\n",
    "    amplitude_ch1 = len(area_ch1)\n",
    "    left_edge_ch1 = np.min(area_ch1)\n",
    "    right_edge_ch1 = np.max(area_ch1)\n",
    "\n",
    "    if nbins_ch0 > 300:\n",
    "        nbins_ch0 = 200\n",
    "        left_edge_ch0 = mean_ch0 -100\n",
    "        right_edge_ch0 = mean_ch0 + 100\n",
    "    if nbins_ch1 > 200:\n",
    "        nbins_ch1 = 200\n",
    "        left_edge_ch1 = mean_ch1 -100\n",
    "        right_edge_ch1 = mean_ch1 + 100\n",
    "    \n",
    "    hist, bins_edges = np.histogram(area_ch0, bins= nbins_ch0, range=(left_edge_ch0, right_edge_ch0))\n",
    "    bins = (bins_edges[:-1] + bins_edges[1:])/2\n",
    "    popt, pcov = curve_fit(gaussian, bins, hist, p0=[amplitude_ch0, mean_ch0,  std_ch0])\n",
    "    x_fit = np.linspace(np.min(bins), np.max(bins), 1000)\n",
    "    y_fit = gaussian(x_fit, *popt)\n",
    "    plt.plot(x_fit, y_fit, label=r'$\\mu$={:.2f}, $\\sigma$={:.2f}'.format(popt[1], popt[2]))\n",
    "    #plt.hist(area_ch0, bins=nbins_ch0, range=(left_edge_ch0, right_edge_ch0),  color='black', density=False, alpha=0.5, label='Ch0 Area')\n",
    "    plt.hist(area_ch0, bins=nbins_ch0, range=(left_edge_ch0, right_edge_ch0),  color='black', density=False, alpha=0.5, label='Ch0 Area')\n",
    "    plt.xlabel('Ch0 Area[PE]')\n",
    "    plt.ylabel('Entries')\n",
    "    plt.title(r'LED {} Ch0 Area'.format(file_tag))\n",
    "    plt.legend()\n",
    "    plt.savefig(r'./figs/LED_{}_Ch0_Area_fit_{:.2f}_PE_sigma_{:.2f}.png'.format(file_tag,popt[1], popt[2]),dpi=300)\n",
    "    plt.show()\n",
    "    plt.cla()\n",
    "    print(r'Ch0 Area Fit: mu= {:.2f}, sigma ={:.2f}'.format(popt[1], popt[2]))\n",
    "    Ch0_area_pe_mu = popt[1]\n",
    "    Ch0_area_pe_sigma = popt[2]\n",
    "    \n",
    "    hist_, bins__edges_ = np.histogram(area_ch1, bins= nbins_ch1, range=(left_edge_ch1, right_edge_ch1))\n",
    "    bins_ = (bins__edges_[:-1] + bins__edges_[1:])/2\n",
    "    popt, pcov = curve_fit(gaussian, bins_, hist_, p0=[1.E3, mean_ch1,  std_ch1])\n",
    "    x_fit = np.linspace(np.min(bins_), np.max(bins_), 1000)\n",
    "    y_fit = gaussian(x_fit, *popt)\n",
    "    plt.plot(x_fit, y_fit, label=r'$\\mu$={:.2f}, $\\sigma$={:.2f}'.format(popt[1], popt[2]))\n",
    "    #plt.hist(area_ch0, bins=nbins_ch0, range=(left_edge_ch0, right_edge_ch0),  color='black', density=False, alpha=0.5, label='Ch0 Area')\n",
    "    plt.hist(area_ch1, bins=nbins_ch1, range=(left_edge_ch1, right_edge_ch1),  color='black', density=False, alpha=0.5, label='Ch0 Area')\n",
    "    plt.xlabel('Ch1 Area[PE]')\n",
    "    plt.ylabel('Entries')\n",
    "    plt.title(r'LED {} Ch1 Area'.format(file_tag))\n",
    "    plt.legend()\n",
    "    plt.savefig(r'./figs/LED_{}_Ch1_Area_fit_{:.2f}_PE_sigma_{:.2f}.png'.format(file_tag,popt[1], popt[2]),dpi=300)\n",
    "    plt.show()\n",
    "    plt.cla()\n",
    "    print(r'Ch1 Area Fit: mu= {:.2f}, sigma ={:.2f}'.format(popt[1], popt[2]))\n",
    "    Ch1_area_pe_mu = popt[1]\n",
    "    Ch1_area_pe_sigma = popt[2]\n",
    "    \n",
    "    plt.hist2d(area_ch0, area_ch1, bins=[\n",
    "        np.linspace(left_edge_ch0, right_edge_ch0, nbins_ch0),\n",
    "        np.linspace(left_edge_ch1, right_edge_ch1-mean_ch1, nbins_ch1)\n",
    "    ] , norm=LogNorm(), cmap='jet', label='Ch1_vs_Ch0_area')\n",
    "    plt.colorbar()\n",
    "    plt.xlabel('Ch0 Area[ADC]')\n",
    "    plt.ylabel('Ch1 Area[ADC]')\n",
    "    plt.legend()\n",
    "    plt.savefig(r'./figs/LED_{}_Ch0_{:.2f}_PE_Ch1_{:.2f}_PE.png'.format(file_tag, Ch0_area_pe_mu, Ch1_area_pe_mu),dpi=300)\n",
    "    plt.show()\n",
    "    plt.cla()\n",
    "    \n",
    "\n",
    "    \n",
    "    plt.hist2d(area_ch0, ratio, bins=[\n",
    "        np.linspace(left_edge_ch0,right_edge_ch0, nbins_ch0),\n",
    "        np.linspace(0, 250, 200)\n",
    "    ] , norm=LogNorm(), cmap='jet', label='Ch0_Ch1_ratio_vs_Ch0_area')\n",
    "    plt.colorbar()\n",
    "    #plt.yscale('log')\n",
    "    plt.xlabel('Ch0 Area[PE]')\n",
    "    plt.ylabel('Ch0/Ch1 Ratio')\n",
    "    plt.title(r'LED {} Ch0 Area vs Ch0/Ch1 Ratio'.format(file_tag))\n",
    "    plt.legend()\n",
    "    plt.savefig(r'./res/LED_{}_Ch0_Area_vs_Ch0_Ch1_Ratio.png'.format(file_tag),dpi=300)\n",
    "    plt.show()\n",
    "    plt.cla()\n",
    "    \n",
    "    hist, bins_edges =np.histogram(ratio, bins=200, range=(0, 250))\n",
    "    bins = (bins_edges[:-1] + bins_edges[1:])/2\n",
    "    popt, pcov = curve_fit(landau_fit, bins, hist , p0=[30, 10, 1.4e4])\n",
    "    \n",
    "    xfit = np.linspace(0, 250, 1000)\n",
    "    y_fit = landau_fit(x_fit, popt[0], popt[1],popt[2])\n",
    "    #fig, ax = plt.subplots()\n",
    "    plt.hist(ratio, bins=200, range=(0, 250), density=False, alpha=0.5, label='Ratio')\n",
    "    plt.plot(x_fit, y_fit, 'r-',color='black',  label=r'$\\mu$={:.2f}, $\\sigma$={:.2f}, A={:.2f}'.format(popt[0],popt[1],popt[2]))\n",
    "    plt.xlabel('Ch0/CH1 Ratio')\n",
    "    plt.ylabel('PDF')\n",
    "    plt.title('Landau Distribution')\n",
    "    plt.legend()\n",
    "    plt.savefig(r'./figs/LED_{}_Ch0_CH1_Ratio_fit_mu_{:.2f}_sigma_{:.2f}.png'.format(file_tag,popt[0],popt[1] ),dpi=300)\n",
    "    plt.show()\n",
    "    print(r'Ratio Fitting Result: mu= {:.2f}, sigma= {:.2f}'.format(popt[0],popt[1]))\n",
    "    Ratio_fit_mu = popt[0]\n",
    "    Ratio_fit_sigma = popt[1]\n",
    "    \n",
    "    run_info.append({\n",
    "        'Ch0_Area_mu': Ch0_area_pe_mu,\n",
    "        'Ch0_Area_sigma': Ch0_area_pe_sigma,\n",
    "        'Ratio_fit_mu': Ratio_fit_mu,\n",
    "        'Ratio_fit_sigma': Ratio_fit_sigma,\n",
    "        'file_tag': file_tag    \n",
    "    })"
   ]
  },
  {
   "cell_type": "code",
   "execution_count": null,
   "metadata": {},
   "outputs": [],
   "source": [
    "import process_data\n",
    "path_save = 'outnpy/LED_20240821_20240826_runinfo.h5py'\n",
    "df = pd.DataFrame(run_info)\n",
    "process_data.write_to_hdf5(df, path_save)"
   ]
  },
  {
   "cell_type": "code",
   "execution_count": null,
   "metadata": {},
   "outputs": [],
   "source": [
    "df"
   ]
  },
  {
   "cell_type": "markdown",
   "metadata": {},
   "source": [
    "# load data "
   ]
  },
  {
   "cell_type": "code",
   "execution_count": null,
   "metadata": {},
   "outputs": [],
   "source": [
    "############################################ run file 20240821 h5py#####################\n",
    "file = 'outnpy/LV2415_anodereadout_LV2414_dualreadout_20240821_LED_1.7V_11ns_400_ratio_run0.h5py'\n",
    "#file = 'outnpy/LV2415_anodereadout_LV2414_dualreadout_20240821_LED_1.7V_12ns_400_ratio_run0.h5py'\n",
    "#file = 'outnpy/LV2415_anodereadout_LV2414_dualreadout_20240821_LED_1.7V_13ns_400_ratio_run0.h5py'\n",
    "#file  = 'outnpy/LV2415_anodereadout_LV2414_dualreadout_20240821_LED_1.7V_14ns_400_ratio_run0.h5py'\n",
    "#file  = 'outnpy/LV2415_anodereadout_LV2414_dualreadout_20240821_LED_1.7V_15ns_400_ratio_run0.h5py'\n",
    "############################################ run file 20240826 h5py###################\n",
    "#file = 'outnpy/LV2415_anodereadout_LV2414_dualreadout_20240826_LED_1.175V_50ns_400_ratio_run0.h5py'\n",
    "#file = 'outnpy/LV2415_anodereadout_LV2414_dualreadout_20240826_LED_1.175V_47ns_400_ratio_run0.h5py'\n",
    "#file = 'outnpy/LV2415_anodereadout_LV2414_dualreadout_20240826_LED_1.175V_48ns_400_ratio_run0.h5py'\n",
    "#file = 'outnpy/LV2415_anodereadout_LV2414_dualreadout_20240826_LED_1.175V_49ns_400_ratio_run0.h5py'\n",
    "#file = 'outnpy/LV2415_anodereadout_LV2414_dualreadout_20240826_LED_1.175V_46ns_400_ratio_run0.h5py'\n",
    "#file = 'outnpy/LV2415_anodereadout_LV2414_dualreadout_20240826_LED_1.130V_65ns_400_ratio_run0.h5py'\n",
    "#file = 'outnpy/LV2415_anodereadout_LV2414_dualreadout_20240826_LED_1.13V_60ns_400_ratio_run0.h5py'\n",
    "#file = 'outnpy/LV2415_anodereadout_LV2414_dualreadout_20240826_LED_1.13V_61ns_400_ratio_run0.h5py'\n",
    "#file = 'outnpy/LV2415_anodereadout_LV2414_dualreadout_20240826_LED_1.13V_63ns_400_ratio_run0.h5py'\n",
    "#file = 'outnpy/LV2415_anodereadout_LV2414_dualreadout_20240826_LED_1.13V_63ns_400_ratio_run0_test.h5df'\n",
    "#file = 'outnpy/LV2415_anodereadout_LV2414_dualreadout_20240826_LED_1.13V_63ns_400_ratio_run0_debug_area.h5df'\n"
   ]
  },
  {
   "cell_type": "code",
   "execution_count": null,
   "metadata": {},
   "outputs": [],
   "source": [
    "file_date = file.split('LED_')[0].split('readout_')[2]\n",
    "led_config = file.split('LED_')[1].split('_400')[0]\n",
    "file_tag = file_date + led_config\n",
    "file_tag"
   ]
  },
  {
   "cell_type": "code",
   "execution_count": null,
   "metadata": {},
   "outputs": [],
   "source": [
    "df = pd.read_hdf(file, key='winfo')\n",
    "df.head()"
   ]
  },
  {
   "cell_type": "code",
   "execution_count": null,
   "metadata": {},
   "outputs": [],
   "source": [
    "#n =301862\n",
    "#wave = df_ch1_diff.Wave[:][n]\n",
    "#baseline = df_ch1_diff.Baseline[:][n]\n",
    "#st = df_ch1_diff.St[:][n]\n",
    "#ed = df_ch1_diff.Ed[:][n]\n",
    "#lp = df_ch1_diff.Minp[:][n]\n"
   ]
  },
  {
   "cell_type": "code",
   "execution_count": null,
   "metadata": {},
   "outputs": [],
   "source": [
    "#plot_waveform(wave, baseline, st, ed, lp)"
   ]
  },
  {
   "cell_type": "code",
   "execution_count": null,
   "metadata": {},
   "outputs": [],
   "source": [
    "area_ch0 = df.Area[df.Ch==0 ].astype(np.float64).to_numpy()\n",
    "area_ch1 = df.Area_fixrange[df.Ch==1 ].astype(np.float64).to_numpy()"
   ]
  },
  {
   "cell_type": "code",
   "execution_count": null,
   "metadata": {},
   "outputs": [],
   "source": [
    "area_ch0, area_ch1"
   ]
  },
  {
   "cell_type": "markdown",
   "metadata": {},
   "source": [
    "# define the range and number of bins to fit histogram of area distribution"
   ]
  },
  {
   "cell_type": "code",
   "execution_count": null,
   "metadata": {},
   "outputs": [],
   "source": [
    "ratio = area_ch0/area_ch1\n",
    "mean_ch0 = np.mean(area_ch0)\n",
    "std_ch0 = np.std(area_ch0)\n",
    "nbins_ch0 = round(np.max(area_ch0)-np.min(area_ch0))\n",
    "left_edge_ch0 = np.min(area_ch0)\n",
    "right_edge_ch0 = np.max(area_ch0)\n",
    "amplitude_ch0 = len(area_ch0)\n",
    "mean_ch1 = np.mean(area_ch1)\n",
    "std_ch1 = np.std(area_ch1)\n",
    "nbins_ch1 = round(np.max(area_ch1)-np.min(area_ch1))\n",
    "left_edge_ch1 = np.min(area_ch1)\n",
    "right_edge_ch1 = np.max(area_ch1)\n",
    "amplitude_ch1 = len(area_ch1)"
   ]
  },
  {
   "cell_type": "code",
   "execution_count": null,
   "metadata": {},
   "outputs": [],
   "source": [
    "mean_ch0, std_ch0 ,left_edge_ch0 , right_edge_ch0, nbins_ch0 , amplitude_ch0"
   ]
  },
  {
   "cell_type": "code",
   "execution_count": null,
   "metadata": {},
   "outputs": [],
   "source": [
    "\n",
    "if nbins_ch0 > 300:\n",
    "    nbins_ch0 = 200\n",
    "    left_edge_ch0 = mean_ch0 -100\n",
    "    right_edge_ch0 = mean_ch0 + 100"
   ]
  },
  {
   "cell_type": "code",
   "execution_count": null,
   "metadata": {},
   "outputs": [],
   "source": [
    "#hist, bins_edges = np.histogram(area_ch0, bins= nbins_ch0, range=(left_edge_ch0, right_edge_ch0))\n",
    "hist, bins_edges = np.histogram(area_ch0, bins= nbins_ch0, range=(left_edge_ch0, right_edge_ch0))\n",
    "bins = (bins_edges[:-1] + bins_edges[1:])/2\n",
    "popt, pcov = curve_fit(gaussian, bins, hist, p0=[amplitude_ch0, mean_ch0,  std_ch0])\n",
    "x_fit = np.linspace(np.min(bins), np.max(bins), 1000)\n",
    "y_fit = gaussian(x_fit, *popt)\n",
    "plt.plot(x_fit, y_fit, label=r'$\\mu$={:.2f}, $\\sigma$={:.2f}'.format(popt[1], popt[2]))\n",
    "#plt.hist(area_ch0, bins=nbins_ch0, range=(left_edge_ch0, right_edge_ch0),  color='black', density=False, alpha=0.5, label='Ch0 Area')\n",
    "plt.hist(area_ch0, bins=nbins_ch0, range=(left_edge_ch0, right_edge_ch0),  color='black', density=False, alpha=0.5, label='Ch0 Area')\n",
    "plt.xlabel('Ch0 Area[PE]')\n",
    "plt.ylabel('Entries')\n",
    "plt.title(r'LED {} Ch0 Area'.format(file_tag))\n",
    "plt.legend()\n",
    "plt.savefig(r'./res/LED_{}_Ch0_Area_fit_{:.2f}_PE_sigma_{:.2f}.png'.format(file_tag,popt[1], popt[2]),dpi=300)\n",
    "plt.show()\n",
    "print(r'Ch0 Area Fit: mu= {:.2f}, sigma ={:.2f}'.format(popt[1], popt[2]))\n",
    "Ch0_area_pe_mu = popt[1]\n",
    "Ch0_area_pe_sigma = popt[2]"
   ]
  },
  {
   "cell_type": "code",
   "execution_count": null,
   "metadata": {},
   "outputs": [],
   "source": [
    "mean_ch1, std_ch1 ,left_edge_ch1 , right_edge_ch1, nbins_ch1, amplitude_ch1"
   ]
  },
  {
   "cell_type": "code",
   "execution_count": null,
   "metadata": {},
   "outputs": [],
   "source": [
    "if nbins_ch1 > 300:\n",
    "    nbins_ch1= 200\n",
    "    left_edge_ch1 = mean_ch1 -100\n",
    "    right_edge_ch1= mean_ch1 + 100"
   ]
  },
  {
   "cell_type": "code",
   "execution_count": null,
   "metadata": {},
   "outputs": [],
   "source": [
    "#hist, bins_edges = np.histogram(area_ch0, bins= nbins_ch0, range=(left_edge_ch0, right_edge_ch0))\n",
    "hist_, bins__edges_ = np.histogram(area_ch1, bins= nbins_ch1, range=(left_edge_ch1, right_edge_ch1))\n",
    "bins_ = (bins__edges_[:-1] + bins__edges_[1:])/2\n",
    "popt, pcov = curve_fit(gaussian, bins_, hist_, p0=[1.E4, mean_ch1,  20])\n",
    "x_fit = np.linspace(np.min(bins_), np.max(bins_), 1000)\n",
    "y_fit = gaussian(x_fit, *popt)\n",
    "plt.plot(x_fit, y_fit, label=r'$\\mu$={:.2f}, $\\sigma$={:.2f}'.format(popt[1], popt[2]))\n",
    "#plt.hist(area_ch0, bins=nbins_ch0, range=(left_edge_ch0, right_edge_ch0),  color='black', density=False, alpha=0.5, label='Ch0 Area')\n",
    "plt.hist(area_ch1, bins=nbins_ch1, range=(left_edge_ch1, right_edge_ch1),  color='black', density=False, alpha=0.5, label='Ch0 Area')\n",
    "plt.xlabel('Ch1 Area[PE]')\n",
    "plt.ylabel('Entries')\n",
    "plt.title(r'LED {} Ch1 Area'.format(file_tag))\n",
    "plt.legend()\n",
    "plt.savefig(r'./res/LED_{}_Ch0_Area_fit_{:.2f}_PE_sigma_{:.2f}.png'.format(file_tag,popt[1], popt[2]),dpi=300)\n",
    "plt.show()\n",
    "print(r'Ch1 Area Fit: mu= {:.2f}, sigma ={:.2f}'.format(popt[1], popt[2]))"
   ]
  },
  {
   "cell_type": "code",
   "execution_count": null,
   "metadata": {},
   "outputs": [],
   "source": [
    "plt.hist2d(area_ch0, area_ch1, bins=[\n",
    "    np.linspace(left_edge_ch0, right_edge_ch0, nbins_ch0),\n",
    "    np.linspace(left_edge_ch1, right_edge_ch1-mean_ch1, nbins_ch1)\n",
    "] , norm=LogNorm(), cmap='jet')\n",
    "plt.colorbar()\n",
    "plt.xlabel('Ch0 Area[ADC]')\n",
    "plt.ylabel('Ch1 Area[ADC]')\n",
    "plt.show()"
   ]
  },
  {
   "cell_type": "code",
   "execution_count": null,
   "metadata": {},
   "outputs": [],
   "source": [
    "if Ch0_area_pe_mu < 25:\n",
    "        ratio_right_edge = 30\n",
    "        ratio_mean = 20\n",
    "if Ch0_area_pe_mu > 25 and Ch0_area_pe_mu < 50:\n",
    "        ratio_right_edge = 150\n",
    "        ratio_mean = 30\n",
    "if Ch0_area_pe_mu > 50:\n",
    "        ratio_right_edge = 200\n",
    "        ratio_mean  =30\n",
    "if Ch0_area_pe_mu > 300:\n",
    "        ratio_right_edge = 200\n",
    "        ratio_mean  =40\n",
    "if Ch0_area_pe_mu > 500:\n",
    "        ratio_right_edge = 250\n",
    "        ratio_mean  =50\n",
    "if mean_ch1 < 10:\n",
    "        nbins_ch1 = 5"
   ]
  },
  {
   "cell_type": "code",
   "execution_count": null,
   "metadata": {},
   "outputs": [],
   "source": [
    "plt.hist2d(area_ch0, ratio, bins=[\n",
    "    np.linspace(left_edge_ch0,right_edge_ch0, nbins_ch0),\n",
    "    np.linspace(0, ratio_right_edge,100)\n",
    "] , norm=LogNorm(), cmap='jet')\n",
    "plt.colorbar()\n",
    "#plt.yscale('log')\n",
    "plt.xlabel('Ch0 Area[PE]')\n",
    "plt.ylabel('Ch0/Ch1 Ratio')\n",
    "plt.title(r'LED {} Ch0 Area vs Ch0/Ch1 Ratio'.format(file_tag))\n",
    "plt.savefig(r'./res/LED_{}_Ch0_Area_vs_Ch0_Ch1_Ratio.png'.format(file_tag),dpi=300)\n",
    "plt.show()"
   ]
  },
  {
   "cell_type": "markdown",
   "metadata": {},
   "source": [
    "# Try to fit ratio dsitrubution of two datasets using Landau distribution"
   ]
  },
  {
   "cell_type": "code",
   "execution_count": null,
   "metadata": {},
   "outputs": [],
   "source": [
    "hist, bins_edges =np.histogram(ratio, bins=200, range=(0, 250))\n",
    "bins = (bins_edges[:-1] + bins_edges[1:])/2\n",
    "popt, pcov = curve_fit(landau_fit, bins, hist , p0=[ratio_mean, 10, 5e4])"
   ]
  },
  {
   "cell_type": "code",
   "execution_count": null,
   "metadata": {},
   "outputs": [],
   "source": [
    "popt[0], popt[1], popt[2]"
   ]
  },
  {
   "cell_type": "code",
   "execution_count": null,
   "metadata": {},
   "outputs": [],
   "source": [
    "x_fit = np.linspace(np.min(bins), np.max(bins), 1000)\n",
    "y_fit = landau_fit(x_fit, popt[0], popt[1],popt[2])\n",
    "fig, ax = plt.subplots()\n",
    "ax.hist(ratio, bins=200, range=(0, 250), density=False, alpha=0.5, label='Ratio')\n",
    "ax.plot(x_fit, y_fit, 'r-',color='black',  label=r'$\\mu$={:.2f}, $\\sigma$={:.2f}, A={:.2f}'.format(popt[0],popt[1],popt[2]))\n",
    "ax.set_xlabel('Ch0/CH1 Ratio')\n",
    "ax.set_ylabel('PDF')\n",
    "ax.set_title('Landau Distribution')\n",
    "ax.legend()\n",
    "plt.savefig(r'./res/LED_{}_Ch0_CH1_Ratio_fit_mu_{:.2f}_sigma_{:.2f}.png'.format(file_tag,popt[0],popt[1] ),dpi=300)\n",
    "plt.show()\n",
    "print(r'Ratio Fitting Result: mu= {:.2f}, sigma= {:.2f}'.format(popt[0],popt[1]))\n",
    "Ratio_fit_mu = popt[0]\n",
    "Ratio_fit_sigma = popt[1]"
   ]
  },
  {
   "cell_type": "code",
   "execution_count": 5,
   "metadata": {},
   "outputs": [
    {
     "ename": "IndentationError",
     "evalue": "unexpected indent (446765807.py, line 9)",
     "output_type": "error",
     "traceback": [
      "\u001b[0;36m  Cell \u001b[0;32mIn[5], line 9\u001b[0;36m\u001b[0m\n\u001b[0;31m    plt.xlabel('Ch0/CH1 Ratio')\u001b[0m\n\u001b[0m    ^\u001b[0m\n\u001b[0;31mIndentationError\u001b[0m\u001b[0;31m:\u001b[0m unexpected indent\n"
     ]
    }
   ],
   "source": [
    "hist, bins_edges =np.histogram(ratio, bins=200, range=(0, 250))\n",
    "bins = (bins_edges[:-1] + bins_edges[1:])/2\n",
    "popt, pcov = curve_fit(landau_fit, bins, hist , p0=[30, 10, 1.4e4])\n",
    "   \n",
    "xfit = np.linspace(0, 250, 1000)\n",
    "y_fit = landau_fit(x_fit, popt[0], popt[1],popt[2])\n",
    "plt.hist(ratio, bins=200, range=(0, 250), density=False, alpha=0.5, label='Ratio')\n",
    "plt.plot(x_fit, y_fit, 'r-',color='black',  label=r'$\\mu$={:.2f}, $\\sigma$={:.2f}, A={:.2f}'.format(popt[0],popt[1],popt[2]))\n",
    "    plt.xlabel('Ch0/CH1 Ratio')\n",
    "    plt.ylabel('PDF')\n",
    "    plt.title('Landau Distribution')\n",
    "    plt.legend()\n",
    "    plt.savefig(r'./figs/LED_{}_Ch0_CH1_Ratio_fit_mu_{:.2f}_sigma_{:.2f}.png'.format(file_tag,popt[0],popt[1] ),dpi=300)\n",
    "    plt.show()\n",
    "    print(r'Ratio Fitting Result: mu= {:.2f}, sigma= {:.2f}'.format(popt[0],popt[1]))\n",
    "    Ratio_fit_mu = popt[0]\n",
    "    Ratio_fit_sigma = popt[1]"
   ]
  },
  {
   "cell_type": "markdown",
   "metadata": {},
   "source": [
    "# store the run info to DateFrame"
   ]
  },
  {
   "cell_type": "code",
   "execution_count": null,
   "metadata": {},
   "outputs": [],
   "source": [
    "Ch0_area_pe_mu, Ch0_area_pe_sigma, Ratio_fit_mu, Ratio_fit_sigma, file_tag\n",
    "run_info.append({\n",
    "    'Ch0_Area_mu': Ch0_area_pe_mu,\n",
    "    'Ch0_Area_sigma': Ch0_area_pe_sigma,\n",
    "    'Ratio_fit_mu': Ratio_fit_mu,\n",
    "    'Ratio_fit_sigma': Ratio_fit_sigma,\n",
    "    'file_tag': file_tag    \n",
    "})"
   ]
  },
  {
   "cell_type": "code",
   "execution_count": null,
   "metadata": {},
   "outputs": [],
   "source": [
    "run_info[ -3:]"
   ]
  },
  {
   "cell_type": "code",
   "execution_count": null,
   "metadata": {},
   "outputs": [],
   "source": [
    "import process_data\n",
    "path_save = 'outnpy/LED_20240821_20240826_run_info.h5py'\n",
    "df = pd.DataFrame(run_info)\n",
    "process_data.write_to_hdf5(df, path_save)"
   ]
  },
  {
   "cell_type": "markdown",
   "metadata": {},
   "source": [
    "# Plot Ch0 area with PE and Ch0/Ch1 ratio "
   ]
  },
  {
   "cell_type": "code",
   "execution_count": null,
   "metadata": {},
   "outputs": [],
   "source": [
    "LED_config_1p7V   = np.array(['1.7V_11ns', '1.7V_12ns', '1.7V_13ns', '1.7V_14ns', '1.7V_15ns', '1.7V_15.5ns', '1.7V_16ns', '1.7V_16.6ns', '1.7V_17ns', '1.7V_15ns','1.7V_14.5ns', '1.7V_14ns', '1.7V_13.5ns', \n",
    "                              '1.7V_13ns', '1.7V_17.5ns', '1.175V_50ns','1.175V_47ns', '1.175V_48ns', '1.175V_49ns','1.175V_46ns','1.175V_65ns', '1.175V_60ns','1.175V_61ns','1.175V_61ns'  ])\n",
    "Ch0_area_pe       = np.array([8.99, 30.76, 76.65, 154.51, 268.25, 161.94, 217.5, 283.39, 359.40, 115.72, 79.24, 51.17, 30.86, 17.12, 431.44, 639.75, 465.27, 518.33, 578.45, 415.39, 936.07, 670.12, 716.79, 815.88])\n",
    "Ch0_area_pe_err   = np.array([3.27, 5.98,  9.38,  13.20,  17.05,  13.42,  15.32, 17.32,  19.30,  11.44,  9.47,  7.62,  5.91,  4.43,  16.50,  26.40,  22.66,  23.76,  25.10,  21.40,  32.06,  27.33,  28.29,  30.00])\n",
    "Ch0_Ch1_ratio     = np.array([6.90, 19.60, 29.79, 34.93,  37.900, 38.15,  40.03, 41.57,  42.40,  35.67,  32.30, 27.48, 20.51, 12.84, 41.83,  50.88,  48.82,  49.59,  50.21,  48.11,  65.10,  59.72,  60.82,  62.91])\n",
    "Ch0_Ch1_ratio_err = np.array([2.53, 6.91,  10.26, 9.70,   6.82,   10.77,  10.15, 9.47,   8.69,   11.11,  11.26, 9.95,  7.13,  4.26,  7.76,   10.44,  10.91,  10.72,  10.48,  11.11,  14.66,  14.03,  14.11,  14.39])\n",
    "\n",
    "fig, ax = plt.subplots(figsize=(8,6))\n",
    "ax.errorbar(Ch0_area_pe, Ch0_Ch1_ratio, xerr=Ch0_area_pe_err, yerr=Ch0_Ch1_ratio_err, fmt='o',  capsize=5, elinewidth=2, capthick=2, label='Ratio')\n",
    "ax.set_xlabel('Ch0 Area [PE]')\n",
    "ax.set_ylabel('Ch0/Ch1 Ratio')\n",
    "ax.set_title('Ch0/Ch1 Ratio vs Ch0 Area')\n",
    "ax.legend()\n",
    "#plt.savefig(r'./res/Ch0_CH1_Ratio_vs_Ch0_Area_with_LED_{}.png'.format(v_value ),dpi=300)\n",
    "plt.show()"
   ]
  },
  {
   "cell_type": "code",
   "execution_count": null,
   "metadata": {},
   "outputs": [],
   "source": [
    "len(LED_config_1p7V), len(Ch0_area_pe), len(Ch0_area_pe_err), len(Ch0_Ch1_ratio), len(Ch0_Ch1_ratio_err)"
   ]
  },
  {
   "cell_type": "code",
   "execution_count": null,
   "metadata": {},
   "outputs": [],
   "source": []
  }
 ],
 "metadata": {
  "kernelspec": {
   "display_name": "Python 3 (ipykernel)",
   "language": "python",
   "name": "python3"
  },
  "language_info": {
   "codemirror_mode": {
    "name": "ipython",
    "version": 3
   },
   "file_extension": ".py",
   "mimetype": "text/x-python",
   "name": "python",
   "nbconvert_exporter": "python",
   "pygments_lexer": "ipython3",
   "version": "3.8.19"
  }
 },
 "nbformat": 4,
 "nbformat_minor": 2
}
