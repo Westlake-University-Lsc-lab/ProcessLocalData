{
 "cells": [
  {
   "cell_type": "code",
   "execution_count": 35,
   "metadata": {},
   "outputs": [],
   "source": [
    "import pandas as pd\n",
    "import numpy as np\n",
    "import h5py\n",
    "import matplotlib.pyplot as plt\n",
    "from matplotlib.colors import LogNorm"
   ]
  },
  {
   "cell_type": "markdown",
   "metadata": {},
   "source": [
    "### Load Data"
   ]
  },
  {
   "cell_type": "code",
   "execution_count": 36,
   "metadata": {},
   "outputs": [],
   "source": [
    "#file = '/home/yjj/ProcessLocalData/outnpy/LV2415_anodereadout_LV2414_dualreadout_20240821_LED_1.7V_11ns_400_ratio_run.h5'\n",
    "file = '/home/yjj/ProcessLocalData/outnpy/LV2415_anodereadout_LV2414_dualreadout_20240821_LED_1.7V_10ns_400_ratio_run.h5'"
   ]
  },
  {
   "cell_type": "code",
   "execution_count": 37,
   "metadata": {},
   "outputs": [],
   "source": [
    "df = pd.read_hdf(file, key='winfo')"
   ]
  },
  {
   "cell_type": "code",
   "execution_count": 38,
   "metadata": {},
   "outputs": [
    {
     "data": {
      "text/html": [
       "<div>\n",
       "<style scoped>\n",
       "    .dataframe tbody tr th:only-of-type {\n",
       "        vertical-align: middle;\n",
       "    }\n",
       "\n",
       "    .dataframe tbody tr th {\n",
       "        vertical-align: top;\n",
       "    }\n",
       "\n",
       "    .dataframe thead th {\n",
       "        text-align: right;\n",
       "    }\n",
       "</style>\n",
       "<table border=\"1\" class=\"dataframe\">\n",
       "  <thead>\n",
       "    <tr style=\"text-align: right;\">\n",
       "      <th></th>\n",
       "      <th>Ch</th>\n",
       "      <th>TTT</th>\n",
       "      <th>Baseline</th>\n",
       "      <th>Hight</th>\n",
       "      <th>Area</th>\n",
       "      <th>AreaFixlen</th>\n",
       "    </tr>\n",
       "  </thead>\n",
       "  <tbody>\n",
       "    <tr>\n",
       "      <th>0</th>\n",
       "      <td>0</td>\n",
       "      <td>163032</td>\n",
       "      <td>15200</td>\n",
       "      <td>145</td>\n",
       "      <td>15.930176</td>\n",
       "      <td>16.052246</td>\n",
       "    </tr>\n",
       "    <tr>\n",
       "      <th>1</th>\n",
       "      <td>1</td>\n",
       "      <td>163032</td>\n",
       "      <td>15338</td>\n",
       "      <td>98</td>\n",
       "      <td>7.080078</td>\n",
       "      <td>6.713867</td>\n",
       "    </tr>\n",
       "    <tr>\n",
       "      <th>2</th>\n",
       "      <td>0</td>\n",
       "      <td>413032</td>\n",
       "      <td>15201</td>\n",
       "      <td>5</td>\n",
       "      <td>0.244141</td>\n",
       "      <td>0.366211</td>\n",
       "    </tr>\n",
       "    <tr>\n",
       "      <th>3</th>\n",
       "      <td>1</td>\n",
       "      <td>413032</td>\n",
       "      <td>15340</td>\n",
       "      <td>9</td>\n",
       "      <td>0.610352</td>\n",
       "      <td>0.793457</td>\n",
       "    </tr>\n",
       "    <tr>\n",
       "      <th>4</th>\n",
       "      <td>0</td>\n",
       "      <td>663032</td>\n",
       "      <td>15201</td>\n",
       "      <td>8</td>\n",
       "      <td>0.488281</td>\n",
       "      <td>-0.549316</td>\n",
       "    </tr>\n",
       "  </tbody>\n",
       "</table>\n",
       "</div>"
      ],
      "text/plain": [
       "   Ch     TTT  Baseline  Hight       Area  AreaFixlen\n",
       "0   0  163032     15200    145  15.930176   16.052246\n",
       "1   1  163032     15338     98   7.080078    6.713867\n",
       "2   0  413032     15201      5   0.244141    0.366211\n",
       "3   1  413032     15340      9   0.610352    0.793457\n",
       "4   0  663032     15201      8   0.488281   -0.549316"
      ]
     },
     "execution_count": 38,
     "metadata": {},
     "output_type": "execute_result"
    }
   ],
   "source": [
    "df.head()"
   ]
  },
  {
   "cell_type": "markdown",
   "metadata": {},
   "source": [
    "### Now you can select the data you want to plot histograms "
   ]
  },
  {
   "cell_type": "code",
   "execution_count": 39,
   "metadata": {},
   "outputs": [],
   "source": [
    "area_ch0 = df.Area[ df['Ch']==0]\n",
    "area_ch1 = df.Area[ df['Ch']==1]\n"
   ]
  },
  {
   "cell_type": "code",
   "execution_count": 40,
   "metadata": {},
   "outputs": [
    {
     "data": {
      "text/plain": [
       "0         15.930176\n",
       "2          0.244141\n",
       "4          0.488281\n",
       "7         14.709473\n",
       "8          0.366211\n",
       "            ...    \n",
       "248998    20.385742\n",
       "249000     7.812500\n",
       "249002     0.427246\n",
       "249004    12.634277\n",
       "249006    14.709473\n",
       "Name: Area, Length: 124504, dtype: float64"
      ]
     },
     "execution_count": 40,
     "metadata": {},
     "output_type": "execute_result"
    }
   ],
   "source": [
    "area_ch0"
   ]
  },
  {
   "cell_type": "code",
   "execution_count": 41,
   "metadata": {},
   "outputs": [
    {
     "data": {
      "text/plain": [
       "18.920898437500004"
      ]
     },
     "execution_count": 41,
     "metadata": {},
     "output_type": "execute_result"
    }
   ],
   "source": [
    "np.max(area_ch1)"
   ]
  },
  {
   "cell_type": "code",
   "execution_count": 42,
   "metadata": {},
   "outputs": [
    {
     "data": {
      "image/png": "[encoded data removed]",
      "text/plain": [
       "<Figure size 640x480 with 1 Axes>"
      ]
     },
     "metadata": {},
     "output_type": "display_data"
    }
   ],
   "source": [
    "#plt.hist(area_ch1, bins=100, range=(0, 20), alpha=0.5, label='Channel 1')\n",
    "count, bins, *_ = plt.hist(\n",
    "    area_ch1, bins=np.linspace(-5, 30, 100), \n",
    "    histtype='step', lw=1,\n",
    "    label='Area dynamic width'\n",
    "    )\n",
    "plt.xlabel('Area[$10^6  e^-$]')\n",
    "plt.ylabel('Entries')\n",
    "plt.yscale('log')\n",
    "#plt.xlim(-5, 200)\n",
    "plt.legend()\n",
    "plt.show()"
   ]
  },
  {
   "cell_type": "code",
   "execution_count": 43,
   "metadata": {},
   "outputs": [
    {
     "data": {
      "image/png": "[encoded data removed]",
      "text/plain": [
       "<Figure size 640x480 with 1 Axes>"
      ]
     },
     "metadata": {},
     "output_type": "display_data"
    }
   ],
   "source": [
    "count, bins, *_ = plt.hist(\n",
    "    area_ch0, bins=np.linspace(-5, 150, 100), \n",
    "    histtype='step', lw=1,\n",
    "    label='Area dynamic width'\n",
    "    )\n",
    "plt.xlabel('Area[$10^6  e^-$]')\n",
    "plt.ylabel('Entries')\n",
    "plt.yscale('log')\n",
    "#plt.xlim(-5, 200)\n",
    "plt.legend()\n",
    "plt.show()"
   ]
  },
  {
   "cell_type": "code",
   "execution_count": 44,
   "metadata": {},
   "outputs": [
    {
     "data": {
      "text/plain": [
       "(1067786.3769531252, 63735.35156250001)"
      ]
     },
     "execution_count": 44,
     "metadata": {},
     "output_type": "execute_result"
    }
   ],
   "source": [
    "np.sum(area_ch0), np.sum(area_ch1)"
   ]
  },
  {
   "cell_type": "code",
   "execution_count": 45,
   "metadata": {},
   "outputs": [
    {
     "data": {
      "text/plain": [
       "16.753439822263083"
      ]
     },
     "execution_count": 45,
     "metadata": {},
     "output_type": "execute_result"
    }
   ],
   "source": [
    "np.sum(area_ch0)/np.sum(area_ch1)"
   ]
  },
  {
   "cell_type": "code",
   "execution_count": null,
   "metadata": {},
   "outputs": [],
   "source": []
  }
 ],
 "metadata": {
  "kernelspec": {
   "display_name": "Python 3 (ipykernel)",
   "language": "python",
   "name": "python3"
  },
  "language_info": {
   "codemirror_mode": {
    "name": "ipython",
    "version": 3
   },
   "file_extension": ".py",
   "mimetype": "text/x-python",
   "name": "python",
   "nbconvert_exporter": "python",
   "pygments_lexer": "ipython3",
   "version": "3.11.7"
  }
 },
 "nbformat": 4,
 "nbformat_minor": 2
}
