{
 "cells": [
  {
   "cell_type": "code",
   "execution_count": 13,
   "metadata": {},
   "outputs": [],
   "source": [
    "import daw_readout\n",
    "import process_data\n",
    "import pandas as pd\n",
    "import numpy as np\n",
    "import h5py\n",
    "from tqdm import tqdm\n",
    "import sys\n",
    "import time\n",
    "import os"
   ]
  },
  {
   "cell_type": "code",
   "execution_count": 14,
   "metadata": {},
   "outputs": [],
   "source": [
    "#file_list = 'runlist/LED_20240826_1.7V_17ns'\n",
    "file_list = 'runlist/runlist'"
   ]
  },
  {
   "cell_type": "code",
   "execution_count": 17,
   "metadata": {},
   "outputs": [
    {
     "name": "stderr",
     "output_type": "stream",
     "text": [
      "376848it [00:37, 10137.35it/s]\n"
     ]
    },
    {
     "name": "stdout",
     "output_type": "stream",
     "text": [
      "h5 Write Time: 1.85 s \n",
      "h5 File Size: 235.73 MB\n",
      "Save to outnpy/lv2415_anode_lv2414_dual_20241012_LED_3.540v_900mv_600ns_attenuator_9DB_400_ratio_run0.h5df\n"
     ]
    }
   ],
   "source": [
    "path_save =\"\"\n",
    "gain_lv2414 = 77.791   # convertered to ADC  \n",
    "gain_lv2415 = 96.99    # convertered to ADC  \n",
    "attenuation_factor_9DB = 2.76   # attenuation factor \n",
    "attenuation_factor_6DB = 1.87   # attenuation factor \n",
    "attenuation_factor_12DB = 3.85  # attenuation factor \n",
    "attenuation_factor_18DB = 7.62   # attenuation factor \n",
    "with open(file_list, 'r') as list:\n",
    "    for line in list:    \n",
    "        rawfilename = line.rstrip('\\n')#[17 :] \n",
    "        #file_tag = line.rstrip('\\n').rstrip('.bin')[24:][: -12] \n",
    "        #print(file_tag)\n",
    "        #break   \n",
    "        rawdata = daw_readout.DAWDemoWaveParser(rawfilename)     \n",
    "        winfo =[]\n",
    "        for wave in tqdm(rawdata) :            \n",
    "            ch = wave.Channel\n",
    "            ttt = wave.Timestamp\n",
    "            base = wave.Baseline\n",
    "            pulse = wave.Waveform\n",
    "            st, minp, ed = process_data.pusle_index(pulse)\n",
    "            start, lowp, end = process_data.find_waveform_intersections(pulse, base, true, 0.1)\n",
    "            ht = base - wave.Waveform[minp]          \n",
    "            area = process_data.pulse_area(pulse, st, ed, base)\n",
    "            area_fix_range = process_data.pulse_area_fix_range(pulse, 90, 300, base)\n",
    "            area_fix_range_dy = process_data.pulse_area_fix_range(pulse, 90, 300, base)\n",
    "            if ch == 0:\n",
    "                ht = ht * attenuation_factor_9DB\n",
    "                area_pe = area / (gain_lv2414 *attenuation_factor_9DB)\n",
    "                area_fix_range_pe = area_fix_range / (gain_lv2414 *attenuation_factor_9DB)\n",
    "            if ch == 1:\n",
    "                area_pe = area / gain_lv2415\n",
    "                area_fix_range_pe = area_fix_range / gain_lv2415\n",
    "            if ch == 2:\n",
    "                area_pe = area / gain_lv2414\n",
    "                area_fix_range_pe = area_fix_range_dy / gain_lv2414 \n",
    "            winfo.append({         \n",
    "                #'EvtID': i,\n",
    "                'Ch':ch,\n",
    "                'TTT':ttt,   ## Trigger time tag\n",
    "                'Baseline': base, \n",
    "                'Hight': ht, \n",
    "                'St': st,\n",
    "                'Ed': ed,\n",
    "                'Minp': minp,\n",
    "                'Width': ed - st,  \n",
    "                'Area': area_pe,\n",
    "                'Area_fixrange':area_fix_range_pe,\n",
    "                'Wave': pulse\n",
    "            })            \n",
    "        #file_tag = line.rstrip('\\n')[17 :].rstrip('.bin')[24:][: -12]  \n",
    "        file_tag = line.rstrip('\\n').rstrip('.bin')[24:][: -12]  \n",
    "        path_save = \"outnpy/{}.h5df\".format(file_tag)\n",
    "        df = pd.DataFrame(winfo)\n",
    "        process_data.write_to_hdf5(df, path_save)"
   ]
  },
  {
   "cell_type": "code",
   "execution_count": 16,
   "metadata": {},
   "outputs": [],
   "source": [
    "#df = pd.DataFrame(winfo)\n",
    "#data_array = df.values\n",
    "#np.save(path_save, data_array)"
   ]
  }
 ],
 "metadata": {
  "kernelspec": {
   "display_name": "python3.8_env",
   "language": "python",
   "name": "python3"
  },
  "language_info": {
   "codemirror_mode": {
    "name": "ipython",
    "version": 3
   },
   "file_extension": ".py",
   "mimetype": "text/x-python",
   "name": "python",
   "nbconvert_exporter": "python",
   "pygments_lexer": "ipython3",
   "version": "3.8.19"
  }
 },
 "nbformat": 4,
 "nbformat_minor": 4
}
