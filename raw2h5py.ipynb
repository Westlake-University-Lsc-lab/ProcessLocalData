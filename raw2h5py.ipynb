{
 "cells": [
  {
   "cell_type": "code",
   "execution_count": 5,
   "metadata": {},
   "outputs": [],
   "source": [
    "import daw_readout\n",
    "import process_data\n",
    "import pandas as pd\n",
    "import numpy as np\n",
    "import h5py\n",
    "from tqdm import tqdm\n",
    "import sys\n",
    "form time import time\n",
    "import os"
   ]
  },
  {
   "cell_type": "code",
   "execution_count": 2,
   "metadata": {},
   "outputs": [],
   "source": [
    "#file_list = 'runlist/darkrate_monitor_with_GECO2020'\n",
    "file_list = 'runlist/LED_1.7V_11ns_400_ratio_runs'"
   ]
  },
  {
   "cell_type": "code",
   "execution_count": 3,
   "metadata": {},
   "outputs": [
    {
     "name": "stderr",
     "output_type": "stream",
     "text": [
      "0it [00:00, ?it/s]/tmp/ipykernel_3335424/3053002512.py:18: RuntimeWarning: divide by zero encountered in scalar divide\n",
      "  asy = ht / (ht + maxp)\n",
      "213270it [00:06, 31135.38it/s]\n",
      "651372it [00:20, 31928.63it/s]\n"
     ]
    }
   ],
   "source": [
    "path_save =\"\"\n",
    "winfo =[]\n",
    "i=0\n",
    "with open(file_list, 'r') as list:\n",
    "    for line in list:    \n",
    "        rawfilename = line.rstrip('\\n')[17 :] \n",
    "        rawdata = daw_readout.DAWDemoWaveParser(rawfilename)     \n",
    "        for wave in tqdm(rawdata) :\n",
    "            ch = wave.Channel\n",
    "            ttt = wave.Timestamp\n",
    "            base = wave.Baseline\n",
    "            pulse = wave.Waveform\n",
    "            st, minp, ed = process_data.pusle_index(pulse)\n",
    "            ht = base - wave.Waveform[minp]\n",
    "            rst = minp  - st\n",
    "            flt = ed - minp\n",
    "            maxp = base - np.max(pulse)\n",
    "            asy = ht / (ht + maxp)\n",
    "            area = process_data.pusle_area(pulse, st, ed, base)\n",
    "            area_fixlen = process_data.pulse_area_fix_len(pulse, st, 10, base)\n",
    "            winfo.append({\n",
    "                'EvtID': i,\n",
    "                'Ch':ch,\n",
    "                'TTT':ttt,   ## Trigger time tag\n",
    "                'Baseline': base, \n",
    "                'Hight': ht, \n",
    "                'Width': ed -st,  ## pusle width\n",
    "                'Minp': minp,     ## min point\n",
    "                'Rst' : rst,      ## rise time of pulse    \n",
    "                'Flt' : flt,      ## full time of pulse  \n",
    "                'Asym' : asy,     ## asymmetry of pulse\n",
    "                'Area': area,     ## area of pulse cal by dynamic range\n",
    "                'AreaFixlen': area_fixlen,    ## area of pulse cal by fix length of 10\n",
    "                'Wave': pulse,\n",
    "            })\n",
    "            i +=1\n",
    "            \n",
    "        file_tag = line.rstrip('\\n')[17 :].rstrip('.bin')[24:][: -13]  \n",
    "        path_save = \"outnpy/{}.h5\".format(file_tag)"
   ]
  },
  {
   "cell_type": "code",
   "execution_count": 6,
   "metadata": {},
   "outputs": [
    {
     "ename": "NameError",
     "evalue": "name 'time' is not defined",
     "output_type": "error",
     "traceback": [
      "\u001b[0;31m---------------------------------------------------------------------------\u001b[0m",
      "\u001b[0;31mNameError\u001b[0m                                 Traceback (most recent call last)",
      "Cell \u001b[0;32mIn[6], line 2\u001b[0m\n\u001b[1;32m      1\u001b[0m df \u001b[38;5;241m=\u001b[39m pd\u001b[38;5;241m.\u001b[39mDataFrame(winfo)\n\u001b[0;32m----> 2\u001b[0m process_data\u001b[38;5;241m.\u001b[39mwrite_to_hdf5(df, path_save)\n",
      "File \u001b[0;32m~/ProcessLocalData/process_data.py:53\u001b[0m, in \u001b[0;36mwrite_to_hdf5\u001b[0;34m(df, filename)\u001b[0m\n\u001b[1;32m     52\u001b[0m \u001b[38;5;28;01mdef\u001b[39;00m \u001b[38;5;21mwrite_to_hdf5\u001b[39m(df, filename):\n\u001b[0;32m---> 53\u001b[0m     start_time \u001b[38;5;241m=\u001b[39m time\u001b[38;5;241m.\u001b[39mtime()\n\u001b[1;32m     54\u001b[0m     df\u001b[38;5;241m.\u001b[39mto_hdf(filename, key\u001b[38;5;241m=\u001b[39m\u001b[38;5;124m'\u001b[39m\u001b[38;5;124mwinfo\u001b[39m\u001b[38;5;124m'\u001b[39m, mode\u001b[38;5;241m=\u001b[39m\u001b[38;5;124m'\u001b[39m\u001b[38;5;124mw\u001b[39m\u001b[38;5;124m'\u001b[39m, complib\u001b[38;5;241m=\u001b[39m\u001b[38;5;124m'\u001b[39m\u001b[38;5;124mblosc:blosclz\u001b[39m\u001b[38;5;124m'\u001b[39m, complevel\u001b[38;5;241m=\u001b[39m\u001b[38;5;241m9\u001b[39m)  \n\u001b[1;32m     55\u001b[0m     write_time \u001b[38;5;241m=\u001b[39m time\u001b[38;5;241m.\u001b[39mtime() \u001b[38;5;241m-\u001b[39m start_time\n",
      "\u001b[0;31mNameError\u001b[0m: name 'time' is not defined"
     ]
    }
   ],
   "source": [
    "df = pd.DataFrame(winfo)\n",
    "process_data.write_to_hdf5(df, path_save)"
   ]
  },
  {
   "cell_type": "code",
   "execution_count": null,
   "metadata": {},
   "outputs": [],
   "source": []
  }
 ],
 "metadata": {
  "kernelspec": {
   "display_name": "Python 3 (ipykernel)",
   "language": "python",
   "name": "python3"
  },
  "language_info": {
   "codemirror_mode": {
    "name": "ipython",
    "version": 3
   },
   "file_extension": ".py",
   "mimetype": "text/x-python",
   "name": "python",
   "nbconvert_exporter": "python",
   "pygments_lexer": "ipython3",
   "version": "3.11.9"
  }
 },
 "nbformat": 4,
 "nbformat_minor": 4
}
