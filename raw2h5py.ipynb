{
 "cells": [
  {
   "cell_type": "code",
   "execution_count": 1,
   "metadata": {},
   "outputs": [],
   "source": [
    "import daw_readout\n",
    "import process_data\n",
    "import pandas as pd\n",
    "import numpy as np\n",
    "import h5py\n",
    "from tqdm import tqdm\n",
    "import sys\n",
    "import time\n",
    "import os"
   ]
  },
  {
   "cell_type": "code",
   "execution_count": 2,
   "metadata": {},
   "outputs": [],
   "source": [
    "#file_list = 'runlist/darkrate_monitor_with_GECO2020'\n",
    "#file_list = 'runlist/LED_1.7V_11ns_400_ratio_runs'\n",
    "file_list = 'runlist/LED_1.7V_7.5ns_0.5_ratio_runs'"
   ]
  },
  {
   "cell_type": "code",
   "execution_count": 3,
   "metadata": {},
   "outputs": [
    {
     "name": "stderr",
     "output_type": "stream",
     "text": [
      "292006it [00:33, 8700.06it/s] \n",
      "3348912it [01:35, 35061.87it/s]\n",
      "3348816it [01:35, 35066.43it/s]\n",
      "113100it [00:03, 35212.65it/s]\n"
     ]
    }
   ],
   "source": [
    "path_save =\"\"\n",
    "winfo =[]\n",
    "#i=0\n",
    "#tmp_ch = 0\n",
    "with open(file_list, 'r') as list:\n",
    "    for line in list:    \n",
    "        rawfilename = line.rstrip('\\n')[17 :] \n",
    "        rawdata = daw_readout.DAWDemoWaveParser(rawfilename)     \n",
    "        for wave in tqdm(rawdata) :            \n",
    "            ch = wave.Channel\n",
    "            ttt = wave.Timestamp\n",
    "            base = wave.Baseline\n",
    "            pulse = wave.Waveform\n",
    "            st, minp, ed = process_data.pusle_index(pulse)\n",
    "            ht = base - wave.Waveform[minp]            \n",
    "            #rst = minp  - st\n",
    "            #flt = ed - minp\n",
    "            #maxp = base - np.max(pulse)\n",
    "            #asy = ht / (ht + maxp)\n",
    "            area = process_data.pusle_area(pulse, st, ed, base)\n",
    "            area_fixlen = process_data.pulse_area_fix_len(pulse, st, 10, base)\n",
    "            winfo.append({         \n",
    "                #'EvtID': i,\n",
    "                'Ch':ch,\n",
    "                'TTT':ttt,   ## Trigger time tag\n",
    "                'Baseline': base, \n",
    "                'Hight': ht, \n",
    "                #'Width': ed -st,  ## pusle width\n",
    "                #'Minp': minp,     ## min point\n",
    "                #'Rst' : rst,      ## rise time of pulse    \n",
    "                #'Flt' : flt,      ## full time of pulse  \n",
    "                #'Asym' : asy,     ## asymmetry of pulse\n",
    "                'Area': area,     ## area of pulse cal by dynamic range\n",
    "                'AreaFixlen': area_fixlen,    ## area of pulse cal by fix length of 10\n",
    "                #'Wave': pulse,\n",
    "            })            \n",
    "            #if(ch != tmp_ch):\n",
    "            #    i += 1\n",
    "            #tmp_ch = ch\n",
    "        file_tag = line.rstrip('\\n')[17 :].rstrip('.bin')[24:][: -13]  \n",
    "        path_save = \"outnpy/{}.h5\".format(file_tag)"
   ]
  },
  {
   "cell_type": "code",
   "execution_count": 6,
   "metadata": {},
   "outputs": [
    {
     "data": {
      "text/plain": [
       "'outnpy/LV2415_anodereadout_LV2414_dualreadout_20240820_LED_1.7V_7.5ns_run.h5'"
      ]
     },
     "execution_count": 6,
     "metadata": {},
     "output_type": "execute_result"
    }
   ],
   "source": [
    "path_save"
   ]
  },
  {
   "cell_type": "code",
   "execution_count": 7,
   "metadata": {},
   "outputs": [
    {
     "ename": "OverflowError",
     "evalue": "value too large to convert to int",
     "output_type": "error",
     "traceback": [
      "\u001b[0;31m---------------------------------------------------------------------------\u001b[0m",
      "\u001b[0;31mOverflowError\u001b[0m                             Traceback (most recent call last)",
      "Cell \u001b[0;32mIn[7], line 2\u001b[0m\n\u001b[1;32m      1\u001b[0m df \u001b[38;5;241m=\u001b[39m pd\u001b[38;5;241m.\u001b[39mDataFrame(winfo)\n\u001b[0;32m----> 2\u001b[0m process_data\u001b[38;5;241m.\u001b[39mwrite_to_hdf5(df, path_save)\n",
      "File \u001b[0;32m~/ProcessLocalData/process_data.py:56\u001b[0m, in \u001b[0;36mwrite_to_hdf5\u001b[0;34m(df, filename)\u001b[0m\n\u001b[1;32m     54\u001b[0m \u001b[38;5;28;01mdef\u001b[39;00m \u001b[38;5;21mwrite_to_hdf5\u001b[39m(df, filename):\n\u001b[1;32m     55\u001b[0m     start_time \u001b[38;5;241m=\u001b[39m time\u001b[38;5;241m.\u001b[39mtime()\n\u001b[0;32m---> 56\u001b[0m     df\u001b[38;5;241m.\u001b[39mto_hdf(filename, key\u001b[38;5;241m=\u001b[39m\u001b[38;5;124m'\u001b[39m\u001b[38;5;124mwinfo\u001b[39m\u001b[38;5;124m'\u001b[39m, mode\u001b[38;5;241m=\u001b[39m\u001b[38;5;124m'\u001b[39m\u001b[38;5;124mw\u001b[39m\u001b[38;5;124m'\u001b[39m, complib\u001b[38;5;241m=\u001b[39m\u001b[38;5;124m'\u001b[39m\u001b[38;5;124mblosc:blosclz\u001b[39m\u001b[38;5;124m'\u001b[39m, complevel\u001b[38;5;241m=\u001b[39m\u001b[38;5;241m9\u001b[39m)  \n\u001b[1;32m     57\u001b[0m     write_time \u001b[38;5;241m=\u001b[39m time\u001b[38;5;241m.\u001b[39mtime() \u001b[38;5;241m-\u001b[39m start_time\n\u001b[1;32m     58\u001b[0m     file_size \u001b[38;5;241m=\u001b[39m os\u001b[38;5;241m.\u001b[39mpath\u001b[38;5;241m.\u001b[39mgetsize(filename)\n",
      "File \u001b[0;32m/home/daq/anaconda3/lib/python3.11/site-packages/pandas/core/generic.py:2779\u001b[0m, in \u001b[0;36mNDFrame.to_hdf\u001b[0;34m(self, path_or_buf, key, mode, complevel, complib, append, format, index, min_itemsize, nan_rep, dropna, data_columns, errors, encoding)\u001b[0m\n\u001b[1;32m   2775\u001b[0m \u001b[38;5;28;01mfrom\u001b[39;00m \u001b[38;5;21;01mpandas\u001b[39;00m\u001b[38;5;21;01m.\u001b[39;00m\u001b[38;5;21;01mio\u001b[39;00m \u001b[38;5;28;01mimport\u001b[39;00m pytables\n\u001b[1;32m   2777\u001b[0m \u001b[38;5;66;03m# Argument 3 to \"to_hdf\" has incompatible type \"NDFrame\"; expected\u001b[39;00m\n\u001b[1;32m   2778\u001b[0m \u001b[38;5;66;03m# \"Union[DataFrame, Series]\" [arg-type]\u001b[39;00m\n\u001b[0;32m-> 2779\u001b[0m pytables\u001b[38;5;241m.\u001b[39mto_hdf(\n\u001b[1;32m   2780\u001b[0m     path_or_buf,\n\u001b[1;32m   2781\u001b[0m     key,\n\u001b[1;32m   2782\u001b[0m     \u001b[38;5;28mself\u001b[39m,  \u001b[38;5;66;03m# type: ignore[arg-type]\u001b[39;00m\n\u001b[1;32m   2783\u001b[0m     mode\u001b[38;5;241m=\u001b[39mmode,\n\u001b[1;32m   2784\u001b[0m     complevel\u001b[38;5;241m=\u001b[39mcomplevel,\n\u001b[1;32m   2785\u001b[0m     complib\u001b[38;5;241m=\u001b[39mcomplib,\n\u001b[1;32m   2786\u001b[0m     append\u001b[38;5;241m=\u001b[39mappend,\n\u001b[1;32m   2787\u001b[0m     \u001b[38;5;28mformat\u001b[39m\u001b[38;5;241m=\u001b[39m\u001b[38;5;28mformat\u001b[39m,\n\u001b[1;32m   2788\u001b[0m     index\u001b[38;5;241m=\u001b[39mindex,\n\u001b[1;32m   2789\u001b[0m     min_itemsize\u001b[38;5;241m=\u001b[39mmin_itemsize,\n\u001b[1;32m   2790\u001b[0m     nan_rep\u001b[38;5;241m=\u001b[39mnan_rep,\n\u001b[1;32m   2791\u001b[0m     dropna\u001b[38;5;241m=\u001b[39mdropna,\n\u001b[1;32m   2792\u001b[0m     data_columns\u001b[38;5;241m=\u001b[39mdata_columns,\n\u001b[1;32m   2793\u001b[0m     errors\u001b[38;5;241m=\u001b[39merrors,\n\u001b[1;32m   2794\u001b[0m     encoding\u001b[38;5;241m=\u001b[39mencoding,\n\u001b[1;32m   2795\u001b[0m )\n",
      "File \u001b[0;32m/home/daq/anaconda3/lib/python3.11/site-packages/pandas/io/pytables.py:310\u001b[0m, in \u001b[0;36mto_hdf\u001b[0;34m(path_or_buf, key, value, mode, complevel, complib, append, format, index, min_itemsize, nan_rep, dropna, data_columns, errors, encoding)\u001b[0m\n\u001b[1;32m    306\u001b[0m \u001b[38;5;28;01mif\u001b[39;00m \u001b[38;5;28misinstance\u001b[39m(path_or_buf, \u001b[38;5;28mstr\u001b[39m):\n\u001b[1;32m    307\u001b[0m     \u001b[38;5;28;01mwith\u001b[39;00m HDFStore(\n\u001b[1;32m    308\u001b[0m         path_or_buf, mode\u001b[38;5;241m=\u001b[39mmode, complevel\u001b[38;5;241m=\u001b[39mcomplevel, complib\u001b[38;5;241m=\u001b[39mcomplib\n\u001b[1;32m    309\u001b[0m     ) \u001b[38;5;28;01mas\u001b[39;00m store:\n\u001b[0;32m--> 310\u001b[0m         f(store)\n\u001b[1;32m    311\u001b[0m \u001b[38;5;28;01melse\u001b[39;00m:\n\u001b[1;32m    312\u001b[0m     f(path_or_buf)\n",
      "File \u001b[0;32m/home/daq/anaconda3/lib/python3.11/site-packages/pandas/io/pytables.py:292\u001b[0m, in \u001b[0;36mto_hdf.<locals>.<lambda>\u001b[0;34m(store)\u001b[0m\n\u001b[1;32m    278\u001b[0m     f \u001b[38;5;241m=\u001b[39m \u001b[38;5;28;01mlambda\u001b[39;00m store: store\u001b[38;5;241m.\u001b[39mappend(\n\u001b[1;32m    279\u001b[0m         key,\n\u001b[1;32m    280\u001b[0m         value,\n\u001b[0;32m   (...)\u001b[0m\n\u001b[1;32m    288\u001b[0m         encoding\u001b[38;5;241m=\u001b[39mencoding,\n\u001b[1;32m    289\u001b[0m     )\n\u001b[1;32m    290\u001b[0m \u001b[38;5;28;01melse\u001b[39;00m:\n\u001b[1;32m    291\u001b[0m     \u001b[38;5;66;03m# NB: dropna is not passed to `put`\u001b[39;00m\n\u001b[0;32m--> 292\u001b[0m     f \u001b[38;5;241m=\u001b[39m \u001b[38;5;28;01mlambda\u001b[39;00m store: store\u001b[38;5;241m.\u001b[39mput(\n\u001b[1;32m    293\u001b[0m         key,\n\u001b[1;32m    294\u001b[0m         value,\n\u001b[1;32m    295\u001b[0m         \u001b[38;5;28mformat\u001b[39m\u001b[38;5;241m=\u001b[39m\u001b[38;5;28mformat\u001b[39m,\n\u001b[1;32m    296\u001b[0m         index\u001b[38;5;241m=\u001b[39mindex,\n\u001b[1;32m    297\u001b[0m         min_itemsize\u001b[38;5;241m=\u001b[39mmin_itemsize,\n\u001b[1;32m    298\u001b[0m         nan_rep\u001b[38;5;241m=\u001b[39mnan_rep,\n\u001b[1;32m    299\u001b[0m         data_columns\u001b[38;5;241m=\u001b[39mdata_columns,\n\u001b[1;32m    300\u001b[0m         errors\u001b[38;5;241m=\u001b[39merrors,\n\u001b[1;32m    301\u001b[0m         encoding\u001b[38;5;241m=\u001b[39mencoding,\n\u001b[1;32m    302\u001b[0m         dropna\u001b[38;5;241m=\u001b[39mdropna,\n\u001b[1;32m    303\u001b[0m     )\n\u001b[1;32m    305\u001b[0m path_or_buf \u001b[38;5;241m=\u001b[39m stringify_path(path_or_buf)\n\u001b[1;32m    306\u001b[0m \u001b[38;5;28;01mif\u001b[39;00m \u001b[38;5;28misinstance\u001b[39m(path_or_buf, \u001b[38;5;28mstr\u001b[39m):\n",
      "File \u001b[0;32m/home/daq/anaconda3/lib/python3.11/site-packages/pandas/io/pytables.py:1159\u001b[0m, in \u001b[0;36mHDFStore.put\u001b[0;34m(self, key, value, format, index, append, complib, complevel, min_itemsize, nan_rep, data_columns, encoding, errors, track_times, dropna)\u001b[0m\n\u001b[1;32m   1157\u001b[0m     \u001b[38;5;28mformat\u001b[39m \u001b[38;5;241m=\u001b[39m get_option(\u001b[38;5;124m\"\u001b[39m\u001b[38;5;124mio.hdf.default_format\u001b[39m\u001b[38;5;124m\"\u001b[39m) \u001b[38;5;129;01mor\u001b[39;00m \u001b[38;5;124m\"\u001b[39m\u001b[38;5;124mfixed\u001b[39m\u001b[38;5;124m\"\u001b[39m\n\u001b[1;32m   1158\u001b[0m \u001b[38;5;28mformat\u001b[39m \u001b[38;5;241m=\u001b[39m \u001b[38;5;28mself\u001b[39m\u001b[38;5;241m.\u001b[39m_validate_format(\u001b[38;5;28mformat\u001b[39m)\n\u001b[0;32m-> 1159\u001b[0m \u001b[38;5;28mself\u001b[39m\u001b[38;5;241m.\u001b[39m_write_to_group(\n\u001b[1;32m   1160\u001b[0m     key,\n\u001b[1;32m   1161\u001b[0m     value,\n\u001b[1;32m   1162\u001b[0m     \u001b[38;5;28mformat\u001b[39m\u001b[38;5;241m=\u001b[39m\u001b[38;5;28mformat\u001b[39m,\n\u001b[1;32m   1163\u001b[0m     index\u001b[38;5;241m=\u001b[39mindex,\n\u001b[1;32m   1164\u001b[0m     append\u001b[38;5;241m=\u001b[39mappend,\n\u001b[1;32m   1165\u001b[0m     complib\u001b[38;5;241m=\u001b[39mcomplib,\n\u001b[1;32m   1166\u001b[0m     complevel\u001b[38;5;241m=\u001b[39mcomplevel,\n\u001b[1;32m   1167\u001b[0m     min_itemsize\u001b[38;5;241m=\u001b[39mmin_itemsize,\n\u001b[1;32m   1168\u001b[0m     nan_rep\u001b[38;5;241m=\u001b[39mnan_rep,\n\u001b[1;32m   1169\u001b[0m     data_columns\u001b[38;5;241m=\u001b[39mdata_columns,\n\u001b[1;32m   1170\u001b[0m     encoding\u001b[38;5;241m=\u001b[39mencoding,\n\u001b[1;32m   1171\u001b[0m     errors\u001b[38;5;241m=\u001b[39merrors,\n\u001b[1;32m   1172\u001b[0m     track_times\u001b[38;5;241m=\u001b[39mtrack_times,\n\u001b[1;32m   1173\u001b[0m     dropna\u001b[38;5;241m=\u001b[39mdropna,\n\u001b[1;32m   1174\u001b[0m )\n",
      "File \u001b[0;32m/home/daq/anaconda3/lib/python3.11/site-packages/pandas/io/pytables.py:1857\u001b[0m, in \u001b[0;36mHDFStore._write_to_group\u001b[0;34m(self, key, value, format, axes, index, append, complib, complevel, fletcher32, min_itemsize, chunksize, expectedrows, dropna, nan_rep, data_columns, encoding, errors, track_times)\u001b[0m\n\u001b[1;32m   1854\u001b[0m     \u001b[38;5;28;01mraise\u001b[39;00m \u001b[38;5;167;01mValueError\u001b[39;00m(\u001b[38;5;124m\"\u001b[39m\u001b[38;5;124mCompression not supported on Fixed format stores\u001b[39m\u001b[38;5;124m\"\u001b[39m)\n\u001b[1;32m   1856\u001b[0m \u001b[38;5;66;03m# write the object\u001b[39;00m\n\u001b[0;32m-> 1857\u001b[0m s\u001b[38;5;241m.\u001b[39mwrite(\n\u001b[1;32m   1858\u001b[0m     obj\u001b[38;5;241m=\u001b[39mvalue,\n\u001b[1;32m   1859\u001b[0m     axes\u001b[38;5;241m=\u001b[39maxes,\n\u001b[1;32m   1860\u001b[0m     append\u001b[38;5;241m=\u001b[39mappend,\n\u001b[1;32m   1861\u001b[0m     complib\u001b[38;5;241m=\u001b[39mcomplib,\n\u001b[1;32m   1862\u001b[0m     complevel\u001b[38;5;241m=\u001b[39mcomplevel,\n\u001b[1;32m   1863\u001b[0m     fletcher32\u001b[38;5;241m=\u001b[39mfletcher32,\n\u001b[1;32m   1864\u001b[0m     min_itemsize\u001b[38;5;241m=\u001b[39mmin_itemsize,\n\u001b[1;32m   1865\u001b[0m     chunksize\u001b[38;5;241m=\u001b[39mchunksize,\n\u001b[1;32m   1866\u001b[0m     expectedrows\u001b[38;5;241m=\u001b[39mexpectedrows,\n\u001b[1;32m   1867\u001b[0m     dropna\u001b[38;5;241m=\u001b[39mdropna,\n\u001b[1;32m   1868\u001b[0m     nan_rep\u001b[38;5;241m=\u001b[39mnan_rep,\n\u001b[1;32m   1869\u001b[0m     data_columns\u001b[38;5;241m=\u001b[39mdata_columns,\n\u001b[1;32m   1870\u001b[0m     track_times\u001b[38;5;241m=\u001b[39mtrack_times,\n\u001b[1;32m   1871\u001b[0m )\n\u001b[1;32m   1873\u001b[0m \u001b[38;5;28;01mif\u001b[39;00m \u001b[38;5;28misinstance\u001b[39m(s, Table) \u001b[38;5;129;01mand\u001b[39;00m index:\n\u001b[1;32m   1874\u001b[0m     s\u001b[38;5;241m.\u001b[39mcreate_index(columns\u001b[38;5;241m=\u001b[39mindex)\n",
      "File \u001b[0;32m/home/daq/anaconda3/lib/python3.11/site-packages/pandas/io/pytables.py:3328\u001b[0m, in \u001b[0;36mBlockManagerFixed.write\u001b[0;34m(self, obj, **kwargs)\u001b[0m\n\u001b[1;32m   3325\u001b[0m \u001b[38;5;28;01mfor\u001b[39;00m i, blk \u001b[38;5;129;01min\u001b[39;00m \u001b[38;5;28menumerate\u001b[39m(data\u001b[38;5;241m.\u001b[39mblocks):\n\u001b[1;32m   3326\u001b[0m     \u001b[38;5;66;03m# I have no idea why, but writing values before items fixed #2299\u001b[39;00m\n\u001b[1;32m   3327\u001b[0m     blk_items \u001b[38;5;241m=\u001b[39m data\u001b[38;5;241m.\u001b[39mitems\u001b[38;5;241m.\u001b[39mtake(blk\u001b[38;5;241m.\u001b[39mmgr_locs)\n\u001b[0;32m-> 3328\u001b[0m     \u001b[38;5;28mself\u001b[39m\u001b[38;5;241m.\u001b[39mwrite_array(\u001b[38;5;124mf\u001b[39m\u001b[38;5;124m\"\u001b[39m\u001b[38;5;124mblock\u001b[39m\u001b[38;5;132;01m{\u001b[39;00mi\u001b[38;5;132;01m}\u001b[39;00m\u001b[38;5;124m_values\u001b[39m\u001b[38;5;124m\"\u001b[39m, blk\u001b[38;5;241m.\u001b[39mvalues, items\u001b[38;5;241m=\u001b[39mblk_items)\n\u001b[1;32m   3329\u001b[0m     \u001b[38;5;28mself\u001b[39m\u001b[38;5;241m.\u001b[39mwrite_index(\u001b[38;5;124mf\u001b[39m\u001b[38;5;124m\"\u001b[39m\u001b[38;5;124mblock\u001b[39m\u001b[38;5;132;01m{\u001b[39;00mi\u001b[38;5;132;01m}\u001b[39;00m\u001b[38;5;124m_items\u001b[39m\u001b[38;5;124m\"\u001b[39m, blk_items)\n",
      "File \u001b[0;32m/home/daq/anaconda3/lib/python3.11/site-packages/pandas/io/pytables.py:3169\u001b[0m, in \u001b[0;36mGenericFixed.write_array\u001b[0;34m(self, key, obj, items)\u001b[0m\n\u001b[1;32m   3166\u001b[0m         warnings\u001b[38;5;241m.\u001b[39mwarn(ws, PerformanceWarning, stacklevel\u001b[38;5;241m=\u001b[39mfind_stack_level())\n\u001b[1;32m   3168\u001b[0m     vlarr \u001b[38;5;241m=\u001b[39m \u001b[38;5;28mself\u001b[39m\u001b[38;5;241m.\u001b[39m_handle\u001b[38;5;241m.\u001b[39mcreate_vlarray(\u001b[38;5;28mself\u001b[39m\u001b[38;5;241m.\u001b[39mgroup, key, _tables()\u001b[38;5;241m.\u001b[39mObjectAtom())\n\u001b[0;32m-> 3169\u001b[0m     vlarr\u001b[38;5;241m.\u001b[39mappend(value)\n\u001b[1;32m   3171\u001b[0m \u001b[38;5;28;01melif\u001b[39;00m lib\u001b[38;5;241m.\u001b[39mis_np_dtype(value\u001b[38;5;241m.\u001b[39mdtype, \u001b[38;5;124m\"\u001b[39m\u001b[38;5;124mM\u001b[39m\u001b[38;5;124m\"\u001b[39m):\n\u001b[1;32m   3172\u001b[0m     \u001b[38;5;28mself\u001b[39m\u001b[38;5;241m.\u001b[39m_handle\u001b[38;5;241m.\u001b[39mcreate_array(\u001b[38;5;28mself\u001b[39m\u001b[38;5;241m.\u001b[39mgroup, key, value\u001b[38;5;241m.\u001b[39mview(\u001b[38;5;124m\"\u001b[39m\u001b[38;5;124mi8\u001b[39m\u001b[38;5;124m\"\u001b[39m))\n",
      "File \u001b[0;32m/home/daq/anaconda3/lib/python3.11/site-packages/tables/vlarray.py:528\u001b[0m, in \u001b[0;36mVLArray.append\u001b[0;34m(self, sequence)\u001b[0m\n\u001b[1;32m    525\u001b[0m     nobjects \u001b[38;5;241m=\u001b[39m \u001b[38;5;241m0\u001b[39m\n\u001b[1;32m    526\u001b[0m     nparr \u001b[38;5;241m=\u001b[39m \u001b[38;5;28;01mNone\u001b[39;00m\n\u001b[0;32m--> 528\u001b[0m \u001b[38;5;28mself\u001b[39m\u001b[38;5;241m.\u001b[39m_append(nparr, nobjects)\n\u001b[1;32m    529\u001b[0m \u001b[38;5;28mself\u001b[39m\u001b[38;5;241m.\u001b[39mnrows \u001b[38;5;241m+\u001b[39m\u001b[38;5;241m=\u001b[39m \u001b[38;5;241m1\u001b[39m\n",
      "File \u001b[0;32m/home/daq/anaconda3/lib/python3.11/site-packages/tables/hdf5extension.pyx:2092\u001b[0m, in \u001b[0;36mtables.hdf5extension.VLArray._append\u001b[0;34m()\u001b[0m\n",
      "\u001b[0;31mOverflowError\u001b[0m: value too large to convert to int"
     ]
    }
   ],
   "source": [
    "df = pd.DataFrame(winfo)\n",
    "process_data.write_to_hdf5(df, path_save)"
   ]
  },
  {
   "cell_type": "code",
   "execution_count": null,
   "metadata": {},
   "outputs": [],
   "source": []
  }
 ],
 "metadata": {
  "kernelspec": {
   "display_name": "Python 3 (ipykernel)",
   "language": "python",
   "name": "python3"
  },
  "language_info": {
   "codemirror_mode": {
    "name": "ipython",
    "version": 3
   },
   "file_extension": ".py",
   "mimetype": "text/x-python",
   "name": "python",
   "nbconvert_exporter": "python",
   "pygments_lexer": "ipython3",
   "version": "3.11.9"
  }
 },
 "nbformat": 4,
 "nbformat_minor": 4
}
