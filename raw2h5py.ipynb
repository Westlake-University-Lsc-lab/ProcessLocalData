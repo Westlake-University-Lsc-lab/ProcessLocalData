{
 "cells": [
  {
   "cell_type": "code",
   "execution_count": 1,
   "metadata": {},
   "outputs": [],
   "source": [
    "import daw_readout\n",
    "import process_data\n",
    "import pandas as pd\n",
    "import numpy as np\n",
    "import h5py\n",
    "from tqdm import tqdm\n",
    "import sys\n",
    "import time\n",
    "import os"
   ]
  },
  {
   "cell_type": "code",
   "execution_count": 2,
   "metadata": {},
   "outputs": [],
   "source": [
    "#file_list = 'runlist/darkrate_monitor_with_GECO2020'\n",
    "#file_list = 'runlist/LED_1.7V_11ns_400_ratio_runs'\n",
    "#file_list = 'runlist/LED_1.7V_7.5ns_0.5_ratio_runs'\n",
    "#file_list = 'runlist/LED_1.7V_7.5ns_400_ratio_runs'\n",
    "#file_list = 'runlist/LED_1.7V_10ns_400_ratio_runs'\n",
    "#file_list = 'runlist/LED_1.7V_11ns_400_ratio_runs'\n",
    "#file_list = 'runlist/LED_1.7V_12ns_400_ratio_runs'\n",
    "#file_list = 'runlist/LED_1.7V_13ns_400_ratio_runs'\n",
    "#file_list = 'runlist/LED_1.7V_14ns_400_ratio_runs'\n",
    "file_list = 'runlist/LED_1.7V_15ns_400_ratio_runs'"
   ]
  },
  {
   "cell_type": "code",
   "execution_count": 4,
   "metadata": {},
   "outputs": [
    {
     "name": "stderr",
     "output_type": "stream",
     "text": [
      "361095it [00:08, 40158.35it/s]\n"
     ]
    }
   ],
   "source": [
    "path_save =\"\"\n",
    "winfo =[]\n",
    "with open(file_list, 'r') as list:\n",
    "    for line in list:    \n",
    "        rawfilename = line.rstrip('\\n')[17 :] \n",
    "        rawdata = daw_readout.DAWDemoWaveParser(rawfilename)     \n",
    "        for wave in tqdm(rawdata) :            \n",
    "            ch = wave.Channel\n",
    "            ttt = wave.Timestamp\n",
    "            base = wave.Baseline\n",
    "            pulse = wave.Waveform\n",
    "            st, minp, ed = process_data.pusle_index(pulse)\n",
    "            ht = base - wave.Waveform[minp]            \n",
    "            area = process_data.pusle_area(pulse, st, ed, base)\n",
    "            winfo.append({         \n",
    "                #'EvtID': i,\n",
    "                'Ch':ch,\n",
    "                'TTT':ttt,   ## Trigger time tag\n",
    "                'Baseline': base, \n",
    "                'Hight': ht, \n",
    "                'Area': area,     ## area of pulse cal by dynamic range\n",
    "            })            \n",
    "        file_tag = line.rstrip('\\n')[17 :].rstrip('.bin')[24:][: -13]  \n",
    "        path_save = \"outnpy/{}.npy\".format(file_tag)"
   ]
  },
  {
   "cell_type": "code",
   "execution_count": 11,
   "metadata": {},
   "outputs": [
    {
     "data": {
      "text/plain": [
       "[{'Ch': 0, 'TTT': 103988, 'Baseline': 15199, 'Hight': 8596, 'Area': 19973},\n",
       " {'Ch': 1, 'TTT': 103988, 'Baseline': 15339, 'Hight': 344, 'Area': 659},\n",
       " {'Ch': 2, 'TTT': 103988, 'Baseline': 8115, 'Hight': 10, 'Area': -6},\n",
       " {'Ch': 0, 'TTT': 353988, 'Baseline': 15200, 'Hight': 10258, 'Area': 20982},\n",
       " {'Ch': 1, 'TTT': 353988, 'Baseline': 15339, 'Hight': 208, 'Area': 313},\n",
       " {'Ch': 2, 'TTT': 353988, 'Baseline': 8116, 'Hight': 7, 'Area': -1},\n",
       " {'Ch': 1, 'TTT': 603988, 'Baseline': 15337, 'Hight': 187, 'Area': 368},\n",
       " {'Ch': 2, 'TTT': 603988, 'Baseline': 8117, 'Hight': 20, 'Area': 7},\n",
       " {'Ch': 0, 'TTT': 603988, 'Baseline': 15199, 'Hight': 11523, 'Area': 21662},\n",
       " {'Ch': 0, 'TTT': 853984, 'Baseline': 15200, 'Hight': 9971, 'Area': 19930},\n",
       " {'Ch': 1, 'TTT': 853984, 'Baseline': 15340, 'Hight': 609, 'Area': 1061},\n",
       " {'Ch': 2, 'TTT': 853984, 'Baseline': 8116, 'Hight': 17, 'Area': -10}]"
      ]
     },
     "execution_count": 11,
     "metadata": {},
     "output_type": "execute_result"
    }
   ],
   "source": [
    "winfo[:12]"
   ]
  },
  {
   "cell_type": "code",
   "execution_count": 13,
   "metadata": {},
   "outputs": [
    {
     "data": {
      "text/plain": [
       "'outnpy/LV2415_anodereadout_LV2414_dualreadout_20240821_LED_1.7V_15ns_400_ratio_run.h5df'"
      ]
     },
     "execution_count": 13,
     "metadata": {},
     "output_type": "execute_result"
    }
   ],
   "source": [
    "path_save"
   ]
  },
  {
   "cell_type": "code",
   "execution_count": 15,
   "metadata": {},
   "outputs": [
    {
     "data": {
      "text/plain": [
       "(361095, 5)"
      ]
     },
     "execution_count": 15,
     "metadata": {},
     "output_type": "execute_result"
    }
   ],
   "source": [
    "df = pd.DataFrame(winfo)"
   ]
  },
  {
   "cell_type": "code",
   "execution_count": 19,
   "metadata": {},
   "outputs": [
    {
     "data": {
      "text/html": [
       "<div>\n",
       "<style scoped>\n",
       "    .dataframe tbody tr th:only-of-type {\n",
       "        vertical-align: middle;\n",
       "    }\n",
       "\n",
       "    .dataframe tbody tr th {\n",
       "        vertical-align: top;\n",
       "    }\n",
       "\n",
       "    .dataframe thead th {\n",
       "        text-align: right;\n",
       "    }\n",
       "</style>\n",
       "<table border=\"1\" class=\"dataframe\">\n",
       "  <thead>\n",
       "    <tr style=\"text-align: right;\">\n",
       "      <th></th>\n",
       "      <th>Ch</th>\n",
       "      <th>TTT</th>\n",
       "      <th>Baseline</th>\n",
       "      <th>Hight</th>\n",
       "      <th>Area</th>\n",
       "    </tr>\n",
       "  </thead>\n",
       "  <tbody>\n",
       "    <tr>\n",
       "      <th>0</th>\n",
       "      <td>0</td>\n",
       "      <td>103988</td>\n",
       "      <td>15199</td>\n",
       "      <td>8596</td>\n",
       "      <td>19973</td>\n",
       "    </tr>\n",
       "    <tr>\n",
       "      <th>1</th>\n",
       "      <td>1</td>\n",
       "      <td>103988</td>\n",
       "      <td>15339</td>\n",
       "      <td>344</td>\n",
       "      <td>659</td>\n",
       "    </tr>\n",
       "    <tr>\n",
       "      <th>2</th>\n",
       "      <td>2</td>\n",
       "      <td>103988</td>\n",
       "      <td>8115</td>\n",
       "      <td>10</td>\n",
       "      <td>-6</td>\n",
       "    </tr>\n",
       "    <tr>\n",
       "      <th>3</th>\n",
       "      <td>0</td>\n",
       "      <td>353988</td>\n",
       "      <td>15200</td>\n",
       "      <td>10258</td>\n",
       "      <td>20982</td>\n",
       "    </tr>\n",
       "    <tr>\n",
       "      <th>4</th>\n",
       "      <td>1</td>\n",
       "      <td>353988</td>\n",
       "      <td>15339</td>\n",
       "      <td>208</td>\n",
       "      <td>313</td>\n",
       "    </tr>\n",
       "    <tr>\n",
       "      <th>5</th>\n",
       "      <td>2</td>\n",
       "      <td>353988</td>\n",
       "      <td>8116</td>\n",
       "      <td>7</td>\n",
       "      <td>-1</td>\n",
       "    </tr>\n",
       "    <tr>\n",
       "      <th>6</th>\n",
       "      <td>1</td>\n",
       "      <td>603988</td>\n",
       "      <td>15337</td>\n",
       "      <td>187</td>\n",
       "      <td>368</td>\n",
       "    </tr>\n",
       "    <tr>\n",
       "      <th>7</th>\n",
       "      <td>2</td>\n",
       "      <td>603988</td>\n",
       "      <td>8117</td>\n",
       "      <td>20</td>\n",
       "      <td>7</td>\n",
       "    </tr>\n",
       "    <tr>\n",
       "      <th>8</th>\n",
       "      <td>0</td>\n",
       "      <td>603988</td>\n",
       "      <td>15199</td>\n",
       "      <td>11523</td>\n",
       "      <td>21662</td>\n",
       "    </tr>\n",
       "    <tr>\n",
       "      <th>9</th>\n",
       "      <td>0</td>\n",
       "      <td>853984</td>\n",
       "      <td>15200</td>\n",
       "      <td>9971</td>\n",
       "      <td>19930</td>\n",
       "    </tr>\n",
       "    <tr>\n",
       "      <th>10</th>\n",
       "      <td>1</td>\n",
       "      <td>853984</td>\n",
       "      <td>15340</td>\n",
       "      <td>609</td>\n",
       "      <td>1061</td>\n",
       "    </tr>\n",
       "    <tr>\n",
       "      <th>11</th>\n",
       "      <td>2</td>\n",
       "      <td>853984</td>\n",
       "      <td>8116</td>\n",
       "      <td>17</td>\n",
       "      <td>-10</td>\n",
       "    </tr>\n",
       "  </tbody>\n",
       "</table>\n",
       "</div>"
      ],
      "text/plain": [
       "    Ch     TTT  Baseline  Hight   Area\n",
       "0    0  103988     15199   8596  19973\n",
       "1    1  103988     15339    344    659\n",
       "2    2  103988      8115     10     -6\n",
       "3    0  353988     15200  10258  20982\n",
       "4    1  353988     15339    208    313\n",
       "5    2  353988      8116      7     -1\n",
       "6    1  603988     15337    187    368\n",
       "7    2  603988      8117     20      7\n",
       "8    0  603988     15199  11523  21662\n",
       "9    0  853984     15200   9971  19930\n",
       "10   1  853984     15340    609   1061\n",
       "11   2  853984      8116     17    -10"
      ]
     },
     "execution_count": 19,
     "metadata": {},
     "output_type": "execute_result"
    }
   ],
   "source": [
    "df[:12]"
   ]
  },
  {
   "cell_type": "code",
   "execution_count": 17,
   "metadata": {},
   "outputs": [],
   "source": [
    "data_array = df.values"
   ]
  },
  {
   "cell_type": "code",
   "execution_count": 18,
   "metadata": {},
   "outputs": [],
   "source": [
    "np.save('outnpy/LV2415_anodereadout_LV2414_dualreadout_20240821_LED_1.7V_15ns_400_ratio_run.npy', data_array)"
   ]
  },
  {
   "cell_type": "code",
   "execution_count": null,
   "metadata": {},
   "outputs": [],
   "source": [
    "#process_data.write_to_hdf5(df, path_save)"
   ]
  }
 ],
 "metadata": {
  "kernelspec": {
   "display_name": "Python 3 (ipykernel)",
   "language": "python",
   "name": "python3"
  },
  "language_info": {
   "codemirror_mode": {
    "name": "ipython",
    "version": 3
   },
   "file_extension": ".py",
   "mimetype": "text/x-python",
   "name": "python",
   "nbconvert_exporter": "python",
   "pygments_lexer": "ipython3",
   "version": "3.11.9"
  }
 },
 "nbformat": 4,
 "nbformat_minor": 4
}
