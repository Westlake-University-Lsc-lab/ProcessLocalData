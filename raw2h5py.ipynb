{
 "cells": [
  {
   "cell_type": "code",
   "execution_count": 1,
   "metadata": {},
   "outputs": [],
   "source": [
    "import daw_readout\n",
    "import process_data\n",
    "import pandas as pd\n",
    "import numpy as np\n",
    "import h5py\n",
    "from tqdm import tqdm\n",
    "import sys\n",
    "import time\n",
    "import os"
   ]
  },
  {
   "cell_type": "code",
   "execution_count": 2,
   "metadata": {},
   "outputs": [],
   "source": [
    "#file_list = 'runlist/darkrate_monitor_with_GECO2020'\n",
    "file_list = 'runlist/LED_1.7V_11ns_400_ratio_runs'"
   ]
  },
  {
   "cell_type": "code",
   "execution_count": 3,
   "metadata": {},
   "outputs": [
    {
     "name": "stderr",
     "output_type": "stream",
     "text": [
      "0it [00:00, ?it/s]/tmp/ipykernel_3346943/3053002512.py:18: RuntimeWarning: divide by zero encountered in scalar divide\n",
      "  asy = ht / (ht + maxp)\n",
      "213270it [00:07, 30369.40it/s]\n",
      "651372it [00:20, 31357.20it/s]\n"
     ]
    }
   ],
   "source": [
    "path_save =\"\"\n",
    "winfo =[]\n",
    "i=0\n",
    "with open(file_list, 'r') as list:\n",
    "    for line in list:    \n",
    "        rawfilename = line.rstrip('\\n')[17 :] \n",
    "        rawdata = daw_readout.DAWDemoWaveParser(rawfilename)     \n",
    "        for wave in tqdm(rawdata) :\n",
    "            ch = wave.Channel\n",
    "            ttt = wave.Timestamp\n",
    "            base = wave.Baseline\n",
    "            pulse = wave.Waveform\n",
    "            st, minp, ed = process_data.pusle_index(pulse)\n",
    "            ht = base - wave.Waveform[minp]\n",
    "            #rst = minp  - st\n",
    "            #flt = ed - minp\n",
    "            #maxp = base - np.max(pulse)\n",
    "            #asy = ht / (ht + maxp)\n",
    "            area = process_data.pusle_area(pulse, st, ed, base)\n",
    "            area_fixlen = process_data.pulse_area_fix_len(pulse, st, 10, base)\n",
    "            winfo.append({\n",
    "                'EvtID': i,\n",
    "                'Ch':ch,\n",
    "                'TTT':ttt,   ## Trigger time tag\n",
    "                'Baseline': base, \n",
    "                'Hight': ht, \n",
    "                #'Width': ed -st,  ## pusle width\n",
    "                #'Minp': minp,     ## min point\n",
    "                #'Rst' : rst,      ## rise time of pulse    \n",
    "                #'Flt' : flt,      ## full time of pulse  \n",
    "                #'Asym' : asy,     ## asymmetry of pulse\n",
    "                'Area': area,     ## area of pulse cal by dynamic range\n",
    "                'AreaFixlen': area_fixlen,    ## area of pulse cal by fix length of 10\n",
    "                'Wave': pulse,\n",
    "            })\n",
    "            i +=1\n",
    "            \n",
    "        file_tag = line.rstrip('\\n')[17 :].rstrip('.bin')[24:][: -13]  \n",
    "        path_save = \"outnpy/{}.h5\".format(file_tag)"
   ]
  },
  {
   "cell_type": "code",
   "execution_count": 4,
   "metadata": {},
   "outputs": [
    {
     "data": {
      "text/plain": [
       "'outnpy/LV2415_anodereadout_LV2414_dualreadout_20240821_LED_1.7V_11ns_400_ratio_run.h5'"
      ]
     },
     "execution_count": 4,
     "metadata": {},
     "output_type": "execute_result"
    }
   ],
   "source": [
    "path_save"
   ]
  },
  {
   "cell_type": "code",
   "execution_count": 5,
   "metadata": {},
   "outputs": [
    {
     "name": "stderr",
     "output_type": "stream",
     "text": [
      "/home/yjj/ProcessLocalData/process_data.py:56: PerformanceWarning: \n",
      "your performance may suffer as PyTables will pickle object types that it cannot\n",
      "map directly to c-types [inferred_type->mixed,key->block2_values] [items->Index(['Wave'], dtype='object')]\n",
      "\n",
      "  df.to_hdf(filename, key='winfo', mode='w', complib='blosc:blosclz', complevel=9)\n"
     ]
    },
    {
     "name": "stdout",
     "output_type": "stream",
     "text": [
      "h5 Write Time: 5.583829402923584:.2f s \n",
      "h5 File Size: 291.3420248031616:.2f MB\n",
      "Save to outnpy/LV2415_anodereadout_LV2414_dualreadout_20240821_LED_1.7V_11ns_400_ratio_run.h5\n"
     ]
    },
    {
     "data": {
      "text/plain": [
       "(5.583829402923584, 305494255)"
      ]
     },
     "execution_count": 5,
     "metadata": {},
     "output_type": "execute_result"
    }
   ],
   "source": [
    "df = pd.DataFrame(winfo)\n",
    "process_data.write_to_hdf5(df, path_save)"
   ]
  },
  {
   "cell_type": "code",
   "execution_count": null,
   "metadata": {},
   "outputs": [],
   "source": []
  }
 ],
 "metadata": {
  "kernelspec": {
   "display_name": "Python 3 (ipykernel)",
   "language": "python",
   "name": "python3"
  },
  "language_info": {
   "codemirror_mode": {
    "name": "ipython",
    "version": 3
   },
   "file_extension": ".py",
   "mimetype": "text/x-python",
   "name": "python",
   "nbconvert_exporter": "python",
   "pygments_lexer": "ipython3",
   "version": "3.11.7"
  }
 },
 "nbformat": 4,
 "nbformat_minor": 4
}
