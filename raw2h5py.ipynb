{
 "cells": [
  {
   "cell_type": "code",
   "execution_count": 29,
   "metadata": {},
   "outputs": [],
   "source": [
    "import daw_readout\n",
    "import process_data\n",
    "import pandas as pd\n",
    "import numpy as np\n",
    "import h5py\n",
    "from tqdm import tqdm\n",
    "import sys\n",
    "import time\n",
    "import os"
   ]
  },
  {
   "cell_type": "code",
   "execution_count": 42,
   "metadata": {},
   "outputs": [],
   "source": [
    "#file_list = 'runlist/darkrate_monitor_with_GECO2020'\n",
    "#file_list = 'runlist/LED_1.7V_11ns_400_ratio_runs'\n",
    "#file_list = 'runlist/LED_1.7V_7.5ns_0.5_ratio_runs'\n",
    "#file_list = 'runlist/LED_1.7V_7.5ns_400_ratio_runs'\n",
    "#file_list = 'runlist/LED_1.7V_10ns_400_ratio_runs'\n",
    "#file_list = 'runlist/LED_1.7V_11ns_400_ratio_runs'\n",
    "#file_list = 'runlist/LED_1.7V_12ns_400_ratio_runs'\n",
    "#file_list = 'runlist/LED_1.7V_13ns_400_ratio_runs'\n",
    "file_list = 'runlist/LED_1.7V_14ns_400_ratio_runs'\n",
    "#file_list = 'runlist/LED_1.7V_15ns_400_ratio_runs'"
   ]
  },
  {
   "cell_type": "code",
   "execution_count": 43,
   "metadata": {},
   "outputs": [
    {
     "name": "stderr",
     "output_type": "stream",
     "text": [
      "359511it [00:08, 40926.71it/s]\n"
     ]
    }
   ],
   "source": [
    "path_save =\"\"\n",
    "winfo =[]\n",
    "with open(file_list, 'r') as list:\n",
    "    for line in list:    \n",
    "        rawfilename = line.rstrip('\\n')[17 :] \n",
    "        rawdata = daw_readout.DAWDemoWaveParser(rawfilename)     \n",
    "        for wave in tqdm(rawdata) :            \n",
    "            ch = wave.Channel\n",
    "            ttt = wave.Timestamp\n",
    "            base = wave.Baseline\n",
    "            pulse = wave.Waveform\n",
    "            st, minp, ed = process_data.pusle_index(pulse)\n",
    "            ht = base - wave.Waveform[minp]            \n",
    "            area = process_data.pusle_area(pulse, st, ed, base)\n",
    "            winfo.append({         \n",
    "                #'EvtID': i,\n",
    "                'Ch':ch,\n",
    "                'TTT':ttt,   ## Trigger time tag\n",
    "                'Baseline': base, \n",
    "                'Hight': ht, \n",
    "                'Area': area,     ## area of pulse cal by dynamic range\n",
    "            })            \n",
    "        file_tag = line.rstrip('\\n')[17 :].rstrip('.bin')[24:][: -13]  \n",
    "        path_save = \"outnpy/{}.npy\".format(file_tag)"
   ]
  },
  {
   "cell_type": "code",
   "execution_count": 44,
   "metadata": {},
   "outputs": [
    {
     "data": {
      "text/plain": [
       "'outnpy/LV2415_anodereadout_LV2414_dualreadout_20240821_LED_1.7V_14ns_400_ratio_run.npy'"
      ]
     },
     "execution_count": 44,
     "metadata": {},
     "output_type": "execute_result"
    }
   ],
   "source": [
    "path_save"
   ]
  },
  {
   "cell_type": "code",
   "execution_count": 45,
   "metadata": {},
   "outputs": [],
   "source": [
    "df = pd.DataFrame(winfo)\n",
    "data_array = df.values\n",
    "np.save(path_save, data_array)"
   ]
  }
 ],
 "metadata": {
  "kernelspec": {
   "display_name": "Python 3 (ipykernel)",
   "language": "python",
   "name": "python3"
  },
  "language_info": {
   "codemirror_mode": {
    "name": "ipython",
    "version": 3
   },
   "file_extension": ".py",
   "mimetype": "text/x-python",
   "name": "python",
   "nbconvert_exporter": "python",
   "pygments_lexer": "ipython3",
   "version": "3.11.9"
  }
 },
 "nbformat": 4,
 "nbformat_minor": 4
}
