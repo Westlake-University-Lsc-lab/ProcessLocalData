{
 "cells": [
  {
   "cell_type": "code",
   "execution_count": 4,
   "metadata": {},
   "outputs": [],
   "source": [
    "import daw_readout\n",
    "import process_data\n",
    "import pandas as pd\n",
    "import numpy as np\n",
    "import h5py\n",
    "from tqdm import tqdm\n",
    "import sys\n",
    "import time\n",
    "import os"
   ]
  },
  {
   "cell_type": "code",
   "execution_count": 5,
   "metadata": {},
   "outputs": [],
   "source": [
    "#file_list = 'runlist/darkrate_monitor_with_GECO2020'\n",
    "#file_list = 'runlist/LED_1.7V_11ns_400_ratio_runs'\n",
    "#file_list = 'runlist/LED_1.7V_7.5ns_0.5_ratio_runs'\n",
    "#file_list = 'runlist/LED_1.7V_7.5ns_400_ratio_runs'\n",
    "#file_list = 'runlist/LED_1.7V_10ns_400_ratio_runs'\n",
    "#file_list = 'runlist/LED_1.7V_11ns_400_ratio_runs'\n",
    "#file_list = 'runlist/LED_1.7V_12ns_400_ratio_runs'\n",
    "#file_list = 'runlist/LED_1.7V_13ns_400_ratio_runs'\n",
    "#file_list = 'runlist/LED_1.7V_14ns_400_ratio_runs'\n",
    "#file_list = 'runlist/LED_1.7V_15ns_400_ratio_runs'\n",
    "\n",
    "file_list = 'runlist/LED_20240826_1.13V_63ns'"
   ]
  },
  {
   "cell_type": "code",
   "execution_count": 6,
   "metadata": {},
   "outputs": [
    {
     "name": "stderr",
     "output_type": "stream",
     "text": [
      "360828it [00:14, 24471.47it/s]\n"
     ]
    },
    {
     "name": "stdout",
     "output_type": "stream",
     "text": [
      "h5 Write Time: 1.65 s \n",
      "h5 File Size: 123.27 MB\n",
      "Save to outnpy/LV2415_anodereadout_LV2414_dualreadout_20240826_LED_1.13V_63ns_400_ratio_run0_debug_area.h5df\n"
     ]
    }
   ],
   "source": [
    "path_save =\"\"\n",
    "winfo =[]\n",
    "with open(file_list, 'r') as list:\n",
    "    for line in list:    \n",
    "        rawfilename = line.rstrip('\\n')[17 :] \n",
    "        rawdata = daw_readout.DAWDemoWaveParser(rawfilename)     \n",
    "        for wave in tqdm(rawdata) :            \n",
    "            ch = wave.Channel\n",
    "            ttt = wave.Timestamp\n",
    "            base = wave.Baseline\n",
    "            pulse = wave.Waveform\n",
    "            st, minp, ed = process_data.pusle_index(pulse)\n",
    "            ht = base - wave.Waveform[minp]            \n",
    "            area = process_data.pusle_area(pulse, st, ed, base)\n",
    "            area_fix_len = process_data.pulse_area_fix_len(pulse, minp, 15, base)\n",
    "            area_fix_range = process_data.pulse_area_fix_range(pulse, 95, 130, base)\n",
    "            area_fix_range_dy = process_data.pulse_area_fix_range(pulse, 90, 150, base)\n",
    "            if ch == 0:\n",
    "                area_pe = area / 77.791\n",
    "                area_fix_len_pe = area_fix_len/ 77.791\n",
    "                area_fix_range_pe = area_fix_range / 77.791\n",
    "            if ch == 1:\n",
    "                area_pe = area / 96.99\n",
    "                area_fix_len_pe = area_fix_len/ 96.99\n",
    "                area_fix_range_pe = area_fix_range / 96.99\n",
    "            if ch == 2:\n",
    "                area_pe = area / 77.791\n",
    "                area_fix_len_pe = area_fix_len / 77.791\n",
    "                area_fix_range_pe = area_fix_range_dy / 77.791 \n",
    "            winfo.append({         \n",
    "                #'EvtID': i,\n",
    "                'Ch':ch,\n",
    "                'TTT':ttt,   ## Trigger time tag\n",
    "                'Baseline': base, \n",
    "                'Hight': ht, \n",
    "                'St': st,\n",
    "                'Ed': ed,\n",
    "                'Minp': minp,\n",
    "                'Width': ed - st,  \n",
    "                'Area': area_pe,     ## area of pulse cal by dynamic range\n",
    "                'Area_fixlen': area_fix_len_pe,\n",
    "                'Area_fixrange':area_fix_range_pe,\n",
    "                'Wave': pulse\n",
    "            })            \n",
    "        file_tag = line.rstrip('\\n')[17 :].rstrip('.bin')[24:][: -12]  \n",
    "        path_save = \"outnpy/{}_debug_area.h5df\".format(file_tag)\n",
    "        df = pd.DataFrame(winfo)\n",
    "        process_data.write_to_hdf5(df, path_save)"
   ]
  },
  {
   "cell_type": "code",
   "execution_count": null,
   "metadata": {},
   "outputs": [],
   "source": [
    "#df = pd.DataFrame(winfo)\n",
    "#data_array = df.values\n",
    "#np.save(path_save, data_array)"
   ]
  }
 ],
 "metadata": {
  "kernelspec": {
   "display_name": "Python 3 (ipykernel)",
   "language": "python",
   "name": "python3"
  },
  "language_info": {
   "codemirror_mode": {
    "name": "ipython",
    "version": 3
   },
   "file_extension": ".py",
   "mimetype": "text/x-python",
   "name": "python",
   "nbconvert_exporter": "python",
   "pygments_lexer": "ipython3",
   "version": "3.8.19"
  }
 },
 "nbformat": 4,
 "nbformat_minor": 4
}
