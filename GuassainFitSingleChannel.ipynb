{
 "cells": [
  {
   "cell_type": "code",
   "execution_count": null,
   "metadata": {},
   "outputs": [],
   "source": [
    "import pandas as pd\n",
    "import numpy as np\n",
    "import fit_package\n",
    "run_info =[]\n",
    "# flist = 'runlist/3p5_raw_list_fit'\n",
    "# flist = 'runlist/3p25_raw_list_fit'\n",
    "# flist = 'runlist/3pv_raw_list_fit'\n",
    "# flist = 'runlist/2p75_raw_list_fit'\n",
    "# flist = 'runlist/2p5_raw_list_fit'\n",
    "# flist = 'runlist/2p25_raw_list_fit'\n",
    "# flist = 'runlist/2v_raw_list_fit'\n",
    "# flist = 'runlist/1p75_raw_list_fit'\n",
    "flist = 'runlist/1p5_raw_list_fit'\n",
    "\n",
    "# flist = 'runlist/runlist_calibration_20DB_12DB_fit'\n",
    "# flist = 'runlist/runlist_calibration_9DB_0DB_fit'\n",
    "# flist = 'runlist/runlist_calibration_S2_off_fit_1us'\n",
    "# flist = 'runlist/runlist_calibration_S2_off_fit_2us'\n",
    "\n",
    "f_tag =''\n",
    "with open(flist, 'r') as list:\n",
    "    for line in list:       \n",
    "        file = line.rstrip('\\n')\n",
    "        f_tag = fit_package.ftag(file)\n",
    "        df = pd.read_hdf(file, key='winfo')               \n",
    "        Ch0_s2_mu,Ch0_s2_sigma = fit_package.fit_single_channel(df, 0, f_tag)               \n",
    "        Ch1_s2_mu,Ch1_s2_sigma = fit_package.fit_single_channel(df, 1, f_tag)\n",
    "        Ch2_s2_mu,Ch2_s2_sigma = fit_package.fit_single_channel(df, 2, f_tag)\n",
    "        # Ch0_base_mu,Ch0_base_sigma = fit_package.fit_baseline(df, 0, f_tag)\n",
    "        run_info.append({\n",
    "        'Ch0_s2_mu': Ch0_s2_mu,\n",
    "        'Ch1_s2_mu': Ch1_s2_mu,\n",
    "        'Ch2_s2_mu': Ch2_s2_mu,  \n",
    "        'S2_width': df.S2_width.values[0],\n",
    "        'S1_width': df.S1_width.values[0],\n",
    "        'Delta_t': df.Delta_t.values[0],\n",
    "        'ftag': f_tag,   \n",
    "        'Ch0_s2_sigma' : Ch0_s2_sigma,\n",
    "        'Ch1_s2_sigma' : Ch1_s2_sigma,\n",
    "        'Ch2_s2_sigma' : Ch2_s2_sigma,         \n",
    "        })"
   ]
  },
  {
   "cell_type": "code",
   "execution_count": null,
   "metadata": {},
   "outputs": [],
   "source": [
    "import process_data\n",
    "import pandas as pd\n",
    "df_new = pd.DataFrame(run_info)\n",
    "path = r'outnpy/{}_single_gussain.h5py'.format(f_tag)\n",
    "# path = r'outnpy/lv2415_20DB_lv2414_12DB_20241210_3p5v_2pv_calibration_single_gussain_fit_all.h5py'\n",
    "# path = r'outnpy/lv2415_9DB_lv2414_0DB_20241212_1p75v_3p35v_calibration_single_gussain_fit_all.h5py'\n",
    "# path = r'outnpy/lv2415_9DB_lv2414_0DB_20241211_1p5_3p5_dt_1us_S2_off_correction_single_gussain_fit.h5py'\n",
    "process_data.write_to_hdf5(df_new, path)\n"
   ]
  },
  {
   "cell_type": "code",
   "execution_count": null,
   "metadata": {},
   "outputs": [],
   "source": [
    "import sys\n",
    "sys.exit()"
   ]
  },
  {
   "cell_type": "markdown",
   "metadata": {},
   "source": [
    "### Check waveforms for suit integral"
   ]
  },
  {
   "cell_type": "code",
   "execution_count": 1,
   "metadata": {},
   "outputs": [],
   "source": [
    "import analysis_data\n",
    "def plot_example_waveform_3(df,st=0,ed=500):    \n",
    "    index = None \n",
    "    for i in range(3):\n",
    "        if df.Ch[i] != 0:\n",
    "            continue\n",
    "        else:\n",
    "            index = i\n",
    "        index = i  \n",
    "    if 'Wave' not in df.columns:\n",
    "        raise ValueError(\"The DataFrame does not contain a 'Wave' column.\")\n",
    "    channel = df.Ch[:][index]\n",
    "    wave = df.Wave[:][index]\n",
    "    baseline = df.Baseline[:][index]        \n",
    "    ttt = df.TTT[:][index]  \n",
    "    area = df.Area_S2[:][index]   \n",
    "    if channel == 0:\n",
    "        pmt = 'LV1414'\n",
    "    elif channel == 1:\n",
    "        pmt = 'LV2415'\n",
    "    elif channel == 2:\n",
    "        pmt = 'LV2414 Dynode'\n",
    "    analysis_data.plot_waveform(wave,baseline,st,ed,pmt=pmt,ch=r'Ch={}'.format(channel),ttt=ttt,area=area)\n",
    " "
   ]
  },
  {
   "cell_type": "code",
   "execution_count": null,
   "metadata": {},
   "outputs": [],
   "source": [
    "import pandas as pd\n",
    "import numpy as np\n",
    "import fit_package\n",
    "# flist = 'runlist/3p25_list'\n",
    "# flist = 'runlist/3p25_raw_list_fit'\n",
    "# flist = 'runlist/runlist_calibration_20DB_12DB_fit'\n",
    "# flist = 'runlist/runlist_calibration_9DB_0DB_fit'\n",
    "# flist = 'runlist/runlist_calibration_0DB_0DB_fit'\n",
    "# flist = 'runlist/runlist_calibration_S2_off_fit'\n",
    "flist = 'runlist/2us_list'\n",
    "\n",
    "\n",
    "f_tag =''\n",
    "with open(flist, 'r') as list:\n",
    "    for line in list:       \n",
    "        file = line.rstrip('\\n')\n",
    "        # delt_t = line.split('680mv_')[1].split('us_50hz')[0]\n",
    "        # f_tag = fit_package.ftag(file)\n",
    "        f_tag = file.split('outnpy/')[1].split('.h5py')[0]\n",
    "        df = pd.DataFrame() \n",
    "        df = pd.read_hdf(file, key='winfo')\n",
    "        # fit_package.plot_example_waveform(df,st=0, ed=500)\n",
    "        print(f_tag)\n",
    "        plot_example_waveform_3(df,st=0, ed=500)\n",
    "        '''\n",
    "        Ch0_s2_mu,Ch0_s2_sigma = fit_single_channel(df, 0, f_tag)               \n",
    "        Ch1_s2_mu,Ch1_s2_sigma = fit_single_channel(df, 1, f_tag)\n",
    "        Ch2_s2_mu,Ch2_s2_sigma = fit_single_channel(df, 2, f_tag)        \n",
    "        run_info.append({\n",
    "        'Ch0_s2_mu': Ch0_s2_mu,\n",
    "        'Ch1_s2_mu': Ch1_s2_mu,\n",
    "        'Ch2_s2_mu': Ch2_s2_mu,        \n",
    "        'S2_width': df.S2_width.values[0],\n",
    "        'Delta_t': df.Delta_t.values[0],\n",
    "        'ftag': f_tag,   \n",
    "        'Ch0_s2_sigma' : Ch0_s2_sigma,\n",
    "        'Ch1_s2_sigma' : Ch1_s2_sigma,\n",
    "        'Ch2_s2_sigma' : Ch2_s2_sigma,         \n",
    "        })\n",
    "        '''"
   ]
  },
  {
   "cell_type": "code",
   "execution_count": null,
   "metadata": {},
   "outputs": [],
   "source": []
  }
 ],
 "metadata": {
  "kernelspec": {
   "display_name": "python3.8_env",
   "language": "python",
   "name": "python3"
  },
  "language_info": {
   "codemirror_mode": {
    "name": "ipython",
    "version": 3
   },
   "file_extension": ".py",
   "mimetype": "text/x-python",
   "name": "python",
   "nbconvert_exporter": "python",
   "pygments_lexer": "ipython3",
   "version": "3.8.19"
  }
 },
 "nbformat": 4,
 "nbformat_minor": 2
}
